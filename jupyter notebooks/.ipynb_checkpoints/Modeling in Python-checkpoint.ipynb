{
 "cells": [
  {
   "cell_type": "markdown",
   "metadata": {
    "ExecuteTime": {
     "end_time": "2018-12-16T12:13:52.286838Z",
     "start_time": "2018-12-16T12:13:52.272837Z"
    }
   },
   "source": [
    "The data preprocessing has been already done in R and in this file we will do the modelling."
   ]
  },
  {
   "cell_type": "markdown",
   "metadata": {
    "_uuid": "735fb98e1c71ae7536f2285d53fc41305e2a193b"
   },
   "source": [
    "**Import libraries**"
   ]
  },
  {
   "cell_type": "code",
   "execution_count": 5,
   "metadata": {
    "ExecuteTime": {
     "end_time": "2018-12-16T11:15:04.439057Z",
     "start_time": "2018-12-16T11:14:56.580607Z"
    },
    "_uuid": "2b42fbd3195a115b213e182355bf79d34f89f7f1"
   },
   "outputs": [],
   "source": [
    "import numpy as np\n",
    "import pandas as pd\n",
    "import matplotlib.pyplot as plt\n",
    "%matplotlib inline\n",
    "\n",
    "# set random seeds \n",
    "from numpy.random import seed\n",
    "seed(2018)"
   ]
  },
  {
   "cell_type": "markdown",
   "metadata": {
    "_uuid": "6528c58a2744913e69a5bb83b74af470f4fc1879"
   },
   "source": [
    "**Import datasets**"
   ]
  },
  {
   "cell_type": "code",
   "execution_count": 6,
   "metadata": {
    "ExecuteTime": {
     "end_time": "2018-12-16T11:18:31.980928Z",
     "start_time": "2018-12-16T11:18:28.348720Z"
    },
    "_uuid": "52a779e6899e0e4a7f747d05e839140c359df766"
   },
   "outputs": [],
   "source": [
    "consumption_train = pd.read_csv('../processed/consumption_train.csv', index_col=0, parse_dates=['timestamp'])\n",
    "cold_start_test = pd.read_csv('../processed/cold_start_test.csv', index_col=0, parse_dates=['timestamp'])\n",
    "submission_format = pd.read_csv('../dataset/submission-format/submission_format.csv', index_col='pred_id', parse_dates=['timestamp'])"
   ]
  },
  {
   "cell_type": "code",
   "execution_count": 7,
   "metadata": {
    "_uuid": "8deabb87c8ed6c7edbc115c66fcc39d0923d9b01"
   },
   "outputs": [
    {
     "data": {
      "text/html": [
       "<div>\n",
       "<style scoped>\n",
       "    .dataframe tbody tr th:only-of-type {\n",
       "        vertical-align: middle;\n",
       "    }\n",
       "\n",
       "    .dataframe tbody tr th {\n",
       "        vertical-align: top;\n",
       "    }\n",
       "\n",
       "    .dataframe thead th {\n",
       "        text-align: right;\n",
       "    }\n",
       "</style>\n",
       "<table border=\"1\" class=\"dataframe\">\n",
       "  <thead>\n",
       "    <tr style=\"text-align: right;\">\n",
       "      <th></th>\n",
       "      <th>series_id</th>\n",
       "      <th>timestamp</th>\n",
       "      <th>consumption</th>\n",
       "      <th>hour</th>\n",
       "      <th>is_baseTemperatureHigh</th>\n",
       "      <th>monday_is_day_off</th>\n",
       "      <th>tuesday_is_day_off</th>\n",
       "      <th>wednesday_is_day_off</th>\n",
       "      <th>thursday_is_day_off</th>\n",
       "      <th>friday_is_day_off</th>\n",
       "      <th>saturday_is_day_off</th>\n",
       "      <th>sunday_is_day_off</th>\n",
       "      <th>is_large</th>\n",
       "      <th>is_medium</th>\n",
       "      <th>is_small</th>\n",
       "      <th>is_Xlarge</th>\n",
       "      <th>is_Xsmall</th>\n",
       "      <th>is_XXlarge</th>\n",
       "      <th>is_XXsmall</th>\n",
       "    </tr>\n",
       "  </thead>\n",
       "  <tbody>\n",
       "    <tr>\n",
       "      <th>1</th>\n",
       "      <td>103088</td>\n",
       "      <td>2014-12-24 00:00:00</td>\n",
       "      <td>101842.233424</td>\n",
       "      <td>0</td>\n",
       "      <td>0</td>\n",
       "      <td>0</td>\n",
       "      <td>0</td>\n",
       "      <td>0</td>\n",
       "      <td>0</td>\n",
       "      <td>0</td>\n",
       "      <td>1</td>\n",
       "      <td>1</td>\n",
       "      <td>0</td>\n",
       "      <td>0</td>\n",
       "      <td>0</td>\n",
       "      <td>0</td>\n",
       "      <td>1</td>\n",
       "      <td>0</td>\n",
       "      <td>0</td>\n",
       "    </tr>\n",
       "    <tr>\n",
       "      <th>2</th>\n",
       "      <td>103088</td>\n",
       "      <td>2014-12-24 01:00:00</td>\n",
       "      <td>105878.048906</td>\n",
       "      <td>1</td>\n",
       "      <td>0</td>\n",
       "      <td>0</td>\n",
       "      <td>0</td>\n",
       "      <td>0</td>\n",
       "      <td>0</td>\n",
       "      <td>0</td>\n",
       "      <td>1</td>\n",
       "      <td>1</td>\n",
       "      <td>0</td>\n",
       "      <td>0</td>\n",
       "      <td>0</td>\n",
       "      <td>0</td>\n",
       "      <td>1</td>\n",
       "      <td>0</td>\n",
       "      <td>0</td>\n",
       "    </tr>\n",
       "    <tr>\n",
       "      <th>3</th>\n",
       "      <td>103088</td>\n",
       "      <td>2014-12-24 02:00:00</td>\n",
       "      <td>91619.105008</td>\n",
       "      <td>2</td>\n",
       "      <td>0</td>\n",
       "      <td>0</td>\n",
       "      <td>0</td>\n",
       "      <td>0</td>\n",
       "      <td>0</td>\n",
       "      <td>0</td>\n",
       "      <td>1</td>\n",
       "      <td>1</td>\n",
       "      <td>0</td>\n",
       "      <td>0</td>\n",
       "      <td>0</td>\n",
       "      <td>0</td>\n",
       "      <td>1</td>\n",
       "      <td>0</td>\n",
       "      <td>0</td>\n",
       "    </tr>\n",
       "    <tr>\n",
       "      <th>4</th>\n",
       "      <td>103088</td>\n",
       "      <td>2014-12-24 03:00:00</td>\n",
       "      <td>94473.706203</td>\n",
       "      <td>3</td>\n",
       "      <td>0</td>\n",
       "      <td>0</td>\n",
       "      <td>0</td>\n",
       "      <td>0</td>\n",
       "      <td>0</td>\n",
       "      <td>0</td>\n",
       "      <td>1</td>\n",
       "      <td>1</td>\n",
       "      <td>0</td>\n",
       "      <td>0</td>\n",
       "      <td>0</td>\n",
       "      <td>0</td>\n",
       "      <td>1</td>\n",
       "      <td>0</td>\n",
       "      <td>0</td>\n",
       "    </tr>\n",
       "    <tr>\n",
       "      <th>5</th>\n",
       "      <td>103088</td>\n",
       "      <td>2014-12-24 04:00:00</td>\n",
       "      <td>96976.755526</td>\n",
       "      <td>4</td>\n",
       "      <td>0</td>\n",
       "      <td>0</td>\n",
       "      <td>0</td>\n",
       "      <td>0</td>\n",
       "      <td>0</td>\n",
       "      <td>0</td>\n",
       "      <td>1</td>\n",
       "      <td>1</td>\n",
       "      <td>0</td>\n",
       "      <td>0</td>\n",
       "      <td>0</td>\n",
       "      <td>0</td>\n",
       "      <td>1</td>\n",
       "      <td>0</td>\n",
       "      <td>0</td>\n",
       "    </tr>\n",
       "  </tbody>\n",
       "</table>\n",
       "</div>"
      ],
      "text/plain": [
       "   series_id           timestamp     ...      is_XXlarge  is_XXsmall\n",
       "1     103088 2014-12-24 00:00:00     ...               0           0\n",
       "2     103088 2014-12-24 01:00:00     ...               0           0\n",
       "3     103088 2014-12-24 02:00:00     ...               0           0\n",
       "4     103088 2014-12-24 03:00:00     ...               0           0\n",
       "5     103088 2014-12-24 04:00:00     ...               0           0\n",
       "\n",
       "[5 rows x 19 columns]"
      ]
     },
     "execution_count": 7,
     "metadata": {},
     "output_type": "execute_result"
    }
   ],
   "source": [
    "consumption_train.head()"
   ]
  },
  {
   "cell_type": "code",
   "execution_count": 8,
   "metadata": {
    "_uuid": "5015b7696dad0831cf38e87a0f956d71fa9ba383"
   },
   "outputs": [
    {
     "data": {
      "text/html": [
       "<div>\n",
       "<style scoped>\n",
       "    .dataframe tbody tr th:only-of-type {\n",
       "        vertical-align: middle;\n",
       "    }\n",
       "\n",
       "    .dataframe tbody tr th {\n",
       "        vertical-align: top;\n",
       "    }\n",
       "\n",
       "    .dataframe thead th {\n",
       "        text-align: right;\n",
       "    }\n",
       "</style>\n",
       "<table border=\"1\" class=\"dataframe\">\n",
       "  <thead>\n",
       "    <tr style=\"text-align: right;\">\n",
       "      <th></th>\n",
       "      <th>series_id</th>\n",
       "      <th>timestamp</th>\n",
       "      <th>consumption</th>\n",
       "      <th>hour</th>\n",
       "      <th>is_baseTemperatureHigh</th>\n",
       "      <th>monday_is_day_off</th>\n",
       "      <th>tuesday_is_day_off</th>\n",
       "      <th>wednesday_is_day_off</th>\n",
       "      <th>thursday_is_day_off</th>\n",
       "      <th>friday_is_day_off</th>\n",
       "      <th>saturday_is_day_off</th>\n",
       "      <th>sunday_is_day_off</th>\n",
       "      <th>is_large</th>\n",
       "      <th>is_medium</th>\n",
       "      <th>is_small</th>\n",
       "      <th>is_Xlarge</th>\n",
       "      <th>is_Xsmall</th>\n",
       "      <th>is_XXlarge</th>\n",
       "      <th>is_XXsmall</th>\n",
       "    </tr>\n",
       "  </thead>\n",
       "  <tbody>\n",
       "    <tr>\n",
       "      <th>1</th>\n",
       "      <td>102781</td>\n",
       "      <td>2013-02-27 00:00:00</td>\n",
       "      <td>15295.740389</td>\n",
       "      <td>0</td>\n",
       "      <td>0</td>\n",
       "      <td>0</td>\n",
       "      <td>0</td>\n",
       "      <td>0</td>\n",
       "      <td>0</td>\n",
       "      <td>0</td>\n",
       "      <td>1</td>\n",
       "      <td>1</td>\n",
       "      <td>1</td>\n",
       "      <td>0</td>\n",
       "      <td>0</td>\n",
       "      <td>0</td>\n",
       "      <td>0</td>\n",
       "      <td>0</td>\n",
       "      <td>0</td>\n",
       "    </tr>\n",
       "    <tr>\n",
       "      <th>2</th>\n",
       "      <td>102781</td>\n",
       "      <td>2013-02-27 01:00:00</td>\n",
       "      <td>15163.209562</td>\n",
       "      <td>1</td>\n",
       "      <td>0</td>\n",
       "      <td>0</td>\n",
       "      <td>0</td>\n",
       "      <td>0</td>\n",
       "      <td>0</td>\n",
       "      <td>0</td>\n",
       "      <td>1</td>\n",
       "      <td>1</td>\n",
       "      <td>1</td>\n",
       "      <td>0</td>\n",
       "      <td>0</td>\n",
       "      <td>0</td>\n",
       "      <td>0</td>\n",
       "      <td>0</td>\n",
       "      <td>0</td>\n",
       "    </tr>\n",
       "    <tr>\n",
       "      <th>3</th>\n",
       "      <td>102781</td>\n",
       "      <td>2013-02-27 02:00:00</td>\n",
       "      <td>15022.264079</td>\n",
       "      <td>2</td>\n",
       "      <td>0</td>\n",
       "      <td>0</td>\n",
       "      <td>0</td>\n",
       "      <td>0</td>\n",
       "      <td>0</td>\n",
       "      <td>0</td>\n",
       "      <td>1</td>\n",
       "      <td>1</td>\n",
       "      <td>1</td>\n",
       "      <td>0</td>\n",
       "      <td>0</td>\n",
       "      <td>0</td>\n",
       "      <td>0</td>\n",
       "      <td>0</td>\n",
       "      <td>0</td>\n",
       "    </tr>\n",
       "    <tr>\n",
       "      <th>4</th>\n",
       "      <td>102781</td>\n",
       "      <td>2013-02-27 03:00:00</td>\n",
       "      <td>15370.420458</td>\n",
       "      <td>3</td>\n",
       "      <td>0</td>\n",
       "      <td>0</td>\n",
       "      <td>0</td>\n",
       "      <td>0</td>\n",
       "      <td>0</td>\n",
       "      <td>0</td>\n",
       "      <td>1</td>\n",
       "      <td>1</td>\n",
       "      <td>1</td>\n",
       "      <td>0</td>\n",
       "      <td>0</td>\n",
       "      <td>0</td>\n",
       "      <td>0</td>\n",
       "      <td>0</td>\n",
       "      <td>0</td>\n",
       "    </tr>\n",
       "    <tr>\n",
       "      <th>5</th>\n",
       "      <td>102781</td>\n",
       "      <td>2013-02-27 04:00:00</td>\n",
       "      <td>15303.103213</td>\n",
       "      <td>4</td>\n",
       "      <td>0</td>\n",
       "      <td>0</td>\n",
       "      <td>0</td>\n",
       "      <td>0</td>\n",
       "      <td>0</td>\n",
       "      <td>0</td>\n",
       "      <td>1</td>\n",
       "      <td>1</td>\n",
       "      <td>1</td>\n",
       "      <td>0</td>\n",
       "      <td>0</td>\n",
       "      <td>0</td>\n",
       "      <td>0</td>\n",
       "      <td>0</td>\n",
       "      <td>0</td>\n",
       "    </tr>\n",
       "  </tbody>\n",
       "</table>\n",
       "</div>"
      ],
      "text/plain": [
       "   series_id           timestamp     ...      is_XXlarge  is_XXsmall\n",
       "1     102781 2013-02-27 00:00:00     ...               0           0\n",
       "2     102781 2013-02-27 01:00:00     ...               0           0\n",
       "3     102781 2013-02-27 02:00:00     ...               0           0\n",
       "4     102781 2013-02-27 03:00:00     ...               0           0\n",
       "5     102781 2013-02-27 04:00:00     ...               0           0\n",
       "\n",
       "[5 rows x 19 columns]"
      ]
     },
     "execution_count": 8,
     "metadata": {},
     "output_type": "execute_result"
    }
   ],
   "source": [
    "cold_start_test.head()"
   ]
  },
  {
   "cell_type": "code",
   "execution_count": 9,
   "metadata": {
    "_uuid": "cf1a0280ce6c6ccfdcfd77cf4eb024cfb0bdf0cc"
   },
   "outputs": [
    {
     "data": {
      "text/html": [
       "<div>\n",
       "<style scoped>\n",
       "    .dataframe tbody tr th:only-of-type {\n",
       "        vertical-align: middle;\n",
       "    }\n",
       "\n",
       "    .dataframe tbody tr th {\n",
       "        vertical-align: top;\n",
       "    }\n",
       "\n",
       "    .dataframe thead th {\n",
       "        text-align: right;\n",
       "    }\n",
       "</style>\n",
       "<table border=\"1\" class=\"dataframe\">\n",
       "  <thead>\n",
       "    <tr style=\"text-align: right;\">\n",
       "      <th></th>\n",
       "      <th>series_id</th>\n",
       "      <th>timestamp</th>\n",
       "      <th>temperature</th>\n",
       "      <th>consumption</th>\n",
       "      <th>prediction_window</th>\n",
       "    </tr>\n",
       "    <tr>\n",
       "      <th>pred_id</th>\n",
       "      <th></th>\n",
       "      <th></th>\n",
       "      <th></th>\n",
       "      <th></th>\n",
       "      <th></th>\n",
       "    </tr>\n",
       "  </thead>\n",
       "  <tbody>\n",
       "    <tr>\n",
       "      <th>0</th>\n",
       "      <td>102781</td>\n",
       "      <td>2013-03-03</td>\n",
       "      <td>19.931250</td>\n",
       "      <td>0.0</td>\n",
       "      <td>daily</td>\n",
       "    </tr>\n",
       "    <tr>\n",
       "      <th>1</th>\n",
       "      <td>102781</td>\n",
       "      <td>2013-03-04</td>\n",
       "      <td>20.034375</td>\n",
       "      <td>0.0</td>\n",
       "      <td>daily</td>\n",
       "    </tr>\n",
       "    <tr>\n",
       "      <th>2</th>\n",
       "      <td>102781</td>\n",
       "      <td>2013-03-05</td>\n",
       "      <td>19.189583</td>\n",
       "      <td>0.0</td>\n",
       "      <td>daily</td>\n",
       "    </tr>\n",
       "    <tr>\n",
       "      <th>3</th>\n",
       "      <td>102781</td>\n",
       "      <td>2013-03-06</td>\n",
       "      <td>18.397917</td>\n",
       "      <td>0.0</td>\n",
       "      <td>daily</td>\n",
       "    </tr>\n",
       "    <tr>\n",
       "      <th>4</th>\n",
       "      <td>102781</td>\n",
       "      <td>2013-03-07</td>\n",
       "      <td>20.762500</td>\n",
       "      <td>0.0</td>\n",
       "      <td>daily</td>\n",
       "    </tr>\n",
       "  </tbody>\n",
       "</table>\n",
       "</div>"
      ],
      "text/plain": [
       "         series_id  timestamp        ...          consumption  prediction_window\n",
       "pred_id                              ...                                        \n",
       "0           102781 2013-03-03        ...                  0.0              daily\n",
       "1           102781 2013-03-04        ...                  0.0              daily\n",
       "2           102781 2013-03-05        ...                  0.0              daily\n",
       "3           102781 2013-03-06        ...                  0.0              daily\n",
       "4           102781 2013-03-07        ...                  0.0              daily\n",
       "\n",
       "[5 rows x 5 columns]"
      ]
     },
     "execution_count": 9,
     "metadata": {},
     "output_type": "execute_result"
    }
   ],
   "source": [
    "submission_format.head()"
   ]
  },
  {
   "cell_type": "markdown",
   "metadata": {
    "_uuid": "8e719e74a508273a45bcc35f38a83475e6dc2f16"
   },
   "source": [
    "How many series we have, and how much training data that corresponds to."
   ]
  },
  {
   "cell_type": "code",
   "execution_count": 10,
   "metadata": {
    "ExecuteTime": {
     "end_time": "2018-12-16T11:18:39.870379Z",
     "start_time": "2018-12-16T11:18:39.841377Z"
    },
    "_uuid": "832ea60eebff8de7d5354ec82518437325405b6b"
   },
   "outputs": [
    {
     "name": "stdout",
     "output_type": "stream",
     "text": [
      "There are 758 training series totaling 21224 days (509376 hours) of consumption data.\n"
     ]
    }
   ],
   "source": [
    "def describe_training_data(train_df):\n",
    "    num_training_series = train_df.series_id.nunique()\n",
    "    num_training_days = num_training_series * 28\n",
    "    num_training_hours = num_training_days * 24\n",
    "    assert num_training_hours == train_df.shape[0]\n",
    "    \n",
    "    desc = f'There are {num_training_series} training ' \\\n",
    "           f'series totaling {num_training_days} days ' \\\n",
    "           f'({num_training_hours} hours) of consumption data.'\n",
    "    \n",
    "    print(desc)\n",
    "    \n",
    "describe_training_data(consumption_train)"
   ]
  },
  {
   "cell_type": "markdown",
   "metadata": {
    "_uuid": "303623e4eb62ad134bfe5b1198852d1d132faef5"
   },
   "source": [
    "Since all of the training series are the same length, we'll uniformly sample a subset of series. The size of our resulting reduced data will be controlled by frac_series_to_use."
   ]
  },
  {
   "cell_type": "code",
   "execution_count": 11,
   "metadata": {
    "ExecuteTime": {
     "end_time": "2018-12-16T11:18:57.484386Z",
     "start_time": "2018-12-16T11:18:57.424383Z"
    },
    "_uuid": "23dc18cbf46ec6fd033a3937c69103ab23d413ce"
   },
   "outputs": [
    {
     "name": "stdout",
     "output_type": "stream",
     "text": [
      "There are 10 training series totaling 280 days (6720 hours) of consumption data.\n"
     ]
    }
   ],
   "source": [
    "# choose subset of series for training\n",
    "frac_series_to_use = 0.01\n",
    "\n",
    "rng = np.random.RandomState(seed=2018)\n",
    "series_ids = consumption_train.series_id.unique()\n",
    "series_mask = rng.binomial(1,\n",
    "                           frac_series_to_use,\n",
    "                           size=series_ids.shape).astype(bool)\n",
    "\n",
    "training_series = series_ids[series_mask]\n",
    "\n",
    "# reduce training data to series subset\n",
    "consumption_train = consumption_train[consumption_train.series_id.isin(training_series)]\n",
    "\n",
    "# describe the reduced set\n",
    "describe_training_data(consumption_train)"
   ]
  },
  {
   "cell_type": "markdown",
   "metadata": {
    "_uuid": "a61e1ad2b92c0dee9565bc166b0806559a70e635"
   },
   "source": [
    "The submission format takes the \"cold start\" consumption data to generate the power consumption forecasts for various prediction windows. Each of the series_id in the test set asks for one  of three prediction windows:\n",
    "\n",
    "hourly - predict consumption each hour for a day (24 predictions)\n",
    "\n",
    "daily - predict consumption each day for a week (7 predictions)\n",
    "\n",
    "weekly - predict consumption each week for two weeks (2 predictions)\n"
   ]
  },
  {
   "cell_type": "code",
   "execution_count": 12,
   "metadata": {
    "_uuid": "9427935dbb0e31f8f2ea6c81e7cbd882d0971213"
   },
   "outputs": [
    {
     "data": {
      "text/plain": [
       "hourly    242\n",
       "weekly    192\n",
       "daily     191\n",
       "Name: prediction_window, dtype: int64"
      ]
     },
     "execution_count": 12,
     "metadata": {},
     "output_type": "execute_result"
    }
   ],
   "source": [
    "# confirm that every series asks for only one type of prediction\n",
    "assert all(1 == submission_format.groupby('series_id').prediction_window.nunique())\n",
    "\n",
    "# use the first() prediction window value from a series_id so as not to overcount\n",
    "submission_format.groupby('series_id').prediction_window.first().value_counts()"
   ]
  },
  {
   "cell_type": "markdown",
   "metadata": {
    "_uuid": "0ea7361751f8d5d34cf15591623e58c97c521ccd"
   },
   "source": [
    "For each series_id in the test set, the amount of hourly cold start data are provided is never less than one day (24 consecutive consumption measurements) and can be as much as two weeks (336 consecutive consumption measurements). Cold start data only comes in full-day chunks. In other words, some series may have 3, 4, ..., 14 days worth of cold start data, but no series have 3.5, 4.1, ..., 13.9, or any other partial-day's worth of cold start data.\n",
    "\n",
    "Since each timestep represents and hour, we can visually confirm the above claim with a simple bar plot counting the number of days in each test series."
   ]
  },
  {
   "cell_type": "code",
   "execution_count": 13,
   "metadata": {
    "_uuid": "93060323b44521f1ce6fac0c20e6b4ed3321882a"
   },
   "outputs": [
    {
     "data": {
      "image/png": "[encoded data removed]",
      "text/plain": [
       "<Figure size 432x288 with 1 Axes>"
      ]
     },
     "metadata": {},
     "output_type": "display_data"
    }
   ],
   "source": [
    "ax = (cold_start_test.groupby('series_id').count()\n",
    "                                           .timestamp\n",
    "                                           .divide(24)\n",
    "                                           .value_counts()\n",
    "                                           .sort_index()\n",
    "                                           .plot.bar())\n",
    "ax.set_xlabel('Days in Cold Start Data')\n",
    "ax.set_ylabel('Number of Test Series')\n",
    "plt.show()"
   ]
  },
  {
   "cell_type": "markdown",
   "metadata": {
    "_uuid": "d2a9f869f05de340911e5cd38ba5258edfd3a616"
   },
   "source": [
    "Add prediction_window to the test data so predictions become easy to map."
   ]
  },
  {
   "cell_type": "markdown",
   "metadata": {
    "_uuid": "c213a92bf1431f813fc2ead657c474d827d5ad45"
   },
   "source": [
    "We extract the series_id and prediction window from the submission format file and then merge this df wit the test data.\n",
    "We then group this newly merged df by series_id and take a count of them. We also divide the count by 24 to see how many observations ask prediction window."
   ]
  },
  {
   "cell_type": "code",
   "execution_count": 14,
   "metadata": {
    "ExecuteTime": {
     "end_time": "2018-12-16T11:20:35.637000Z",
     "start_time": "2018-12-16T11:20:33.390872Z"
    },
    "_uuid": "4ecede225876bba2336b41d031a33d422c012adf"
   },
   "outputs": [
    {
     "data": {
      "text/plain": [
       "series_id  prediction_window\n",
       "100004     weekly                4.0\n",
       "100010     hourly               12.0\n",
       "100012     hourly               10.0\n",
       "100020     weekly               13.0\n",
       "100028     daily                13.0\n",
       "Name: prediction_window, dtype: float64"
      ]
     },
     "execution_count": 14,
     "metadata": {},
     "output_type": "execute_result"
    }
   ],
   "source": [
    "# add prediction_window to the test data\n",
    "pred_windows = submission_format[['series_id', 'prediction_window']].drop_duplicates()\n",
    "cold_start_test = cold_start_test.merge(pred_windows, on='series_id')\n",
    "\n",
    "num_cold_start_days_provided = (cold_start_test.groupby('series_id')\n",
    "                                               .prediction_window\n",
    "                                               .value_counts()\n",
    "                                               .divide(24))\n",
    "\n",
    "num_cold_start_days_provided.head()"
   ]
  },
  {
   "cell_type": "markdown",
   "metadata": {
    "_uuid": "44f99da275f669e2188cd6b3f9634b1eac47f5f2"
   },
   "source": [
    "Now we'll plot the distribution of prediction_window for each unique length of cold start data in the test set."
   ]
  },
  {
   "cell_type": "code",
   "execution_count": 15,
   "metadata": {
    "_uuid": "08e681b33672c064a8eef77691e4bb3f4b28a1d9"
   },
   "outputs": [
    {
     "data": {
      "text/plain": [
       "prediction_window      \n",
       "daily              1.0     19\n",
       "                   8.0     18\n",
       "                   13.0    18\n",
       "                   6.0     15\n",
       "                   9.0     15\n",
       "Name: series_id, dtype: int64"
      ]
     },
     "execution_count": 15,
     "metadata": {},
     "output_type": "execute_result"
    }
   ],
   "source": [
    "def _count_cold_start_days(subdf):\n",
    "    \"\"\" Get the number of times a certain cold-start period \n",
    "    appears in the data.\n",
    "    \"\"\"\n",
    "    return (subdf.series_id\n",
    "                 .value_counts()\n",
    "                 .divide(24)  # hours to days \n",
    "                 .value_counts())\n",
    "\n",
    "cold_start_occurrence = (cold_start_test.groupby('prediction_window')\n",
    "                                        .apply(_count_cold_start_days))\n",
    "\n",
    "cold_start_occurrence.head()"
   ]
  },
  {
   "cell_type": "code",
   "execution_count": 16,
   "metadata": {
    "_uuid": "4ce313001313c9af84c4ede0fa4fd6a338cd6c5b"
   },
   "outputs": [
    {
     "data": {
      "image/png": "[encoded data removed]",
      "text/plain": [
       "<Figure size 720x432 with 1 Axes>"
      ]
     },
     "metadata": {},
     "output_type": "display_data"
    }
   ],
   "source": [
    "ax = cold_start_occurrence.unstack(0).plot.bar(figsize=(10, 6),\n",
    "                                               rot=0)\n",
    "\n",
    "ax.set_xlabel('Number of Cold-start Days')\n",
    "ax.set_ylabel('Number of Series in Dataset');"
   ]
  },
  {
   "cell_type": "markdown",
   "metadata": {
    "_uuid": "e6b9eb311033c6c0f9a86b88c4452ce8b891abb2"
   },
   "source": [
    "Using the series consumption_train, all cold start windows from 1 to 14 days can be created, with a minimum of 14 more days that can be used to create validation sets.\n",
    "\n",
    "Let's take a look at the consumption patterns in a few series to see that they're 4 weeks."
   ]
  },
  {
   "cell_type": "code",
   "execution_count": 17,
   "metadata": {
    "ExecuteTime": {
     "end_time": "2018-12-16T11:21:39.177635Z",
     "start_time": "2018-12-16T11:21:36.808499Z"
    },
    "_uuid": "10180552650f061e17da484e02585c1c580d80d6"
   },
   "outputs": [
    {
     "data": {
      "image/png": "[encoded data removed]",
      "text/plain": [
       "<Figure size 432x288 with 1 Axes>"
      ]
     },
     "metadata": {},
     "output_type": "display_data"
    },
    {
     "data": {
      "image/png": "[encoded data removed]",
      "text/plain": [
       "<Figure size 432x288 with 1 Axes>"
      ]
     },
     "metadata": {},
     "output_type": "display_data"
    },
    {
     "data": {
      "image/png": "[encoded data removed]",
      "text/plain": [
       "<Figure size 432x288 with 1 Axes>"
      ]
     },
     "metadata": {},
     "output_type": "display_data"
    }
   ],
   "source": [
    "# plot a few consumption patterns\n",
    "series_to_plot = rng.choice(consumption_train.series_id.unique(), 3)\n",
    "\n",
    "for ser_id in series_to_plot:\n",
    "    ser_data = consumption_train[consumption_train.series_id == ser_id]\n",
    "    ax = ser_data.plot(x='timestamp',\n",
    "                       y='consumption', \n",
    "                       title=f\"series_id {int(ser_id)}\",\n",
    "                       legend=False)\n",
    "    plt.ylabel('consumption (watt-hours)')\n",
    "    plt.show()"
   ]
  },
  {
   "cell_type": "markdown",
   "metadata": {
    "_uuid": "712acb6c9dad540d8a082c81be879167d1dc8c78"
   },
   "source": [
    "We can see that all of the series in the training data (even though we just selected a few at the top of this notebook) have the same length."
   ]
  },
  {
   "cell_type": "code",
   "execution_count": 18,
   "metadata": {
    "_uuid": "9b24903bb2e9fe297e85b8cc7d344b4b080a77a4"
   },
   "outputs": [
    {
     "data": {
      "text/plain": [
       "27 days 23:00:00    10\n",
       "Name: timestamp, dtype: int64"
      ]
     },
     "execution_count": 18,
     "metadata": {},
     "output_type": "execute_result"
    }
   ],
   "source": [
    "(consumption_train.groupby('series_id')\n",
    "                  .timestamp\n",
    "                  .apply(lambda x: x.max() - x.min())\n",
    "                  .value_counts())"
   ]
  },
  {
   "cell_type": "markdown",
   "metadata": {
    "_uuid": "5747fee5467443b06cc098f66bbd914f78c6e7e0"
   },
   "source": [
    "Creating Lagged variables for Timeseries. W[](http://)e'll want to convert each series into a matrix of lagged variables. The Pandas shift method on DataFrames makes this easy."
   ]
  },
  {
   "cell_type": "code",
   "execution_count": 19,
   "metadata": {
    "ExecuteTime": {
     "end_time": "2018-12-16T11:22:21.239040Z",
     "start_time": "2018-12-16T11:22:20.918022Z"
    },
    "_uuid": "4ae49a1011ff1ead9394f82be62f96ebdcd0c7ec"
   },
   "outputs": [
    {
     "data": {
      "text/html": [
       "<div>\n",
       "<style scoped>\n",
       "    .dataframe tbody tr th:only-of-type {\n",
       "        vertical-align: middle;\n",
       "    }\n",
       "\n",
       "    .dataframe tbody tr th {\n",
       "        vertical-align: top;\n",
       "    }\n",
       "\n",
       "    .dataframe thead th {\n",
       "        text-align: right;\n",
       "    }\n",
       "</style>\n",
       "<table border=\"1\" class=\"dataframe\">\n",
       "  <thead>\n",
       "    <tr style=\"text-align: right;\">\n",
       "      <th></th>\n",
       "      <th>consumption</th>\n",
       "      <th>consumption_1</th>\n",
       "      <th>consumption_2</th>\n",
       "      <th>consumption_3</th>\n",
       "    </tr>\n",
       "  </thead>\n",
       "  <tbody>\n",
       "    <tr>\n",
       "      <th>7396</th>\n",
       "      <td>562464.244579</td>\n",
       "      <td>570699.933083</td>\n",
       "      <td>561278.342934</td>\n",
       "      <td>527862.165731</td>\n",
       "    </tr>\n",
       "    <tr>\n",
       "      <th>7397</th>\n",
       "      <td>565464.153881</td>\n",
       "      <td>562464.244579</td>\n",
       "      <td>570699.933083</td>\n",
       "      <td>561278.342934</td>\n",
       "    </tr>\n",
       "    <tr>\n",
       "      <th>7398</th>\n",
       "      <td>593757.048480</td>\n",
       "      <td>565464.153881</td>\n",
       "      <td>562464.244579</td>\n",
       "      <td>570699.933083</td>\n",
       "    </tr>\n",
       "    <tr>\n",
       "      <th>7399</th>\n",
       "      <td>606651.971117</td>\n",
       "      <td>593757.048480</td>\n",
       "      <td>565464.153881</td>\n",
       "      <td>562464.244579</td>\n",
       "    </tr>\n",
       "    <tr>\n",
       "      <th>7400</th>\n",
       "      <td>570132.762731</td>\n",
       "      <td>606651.971117</td>\n",
       "      <td>593757.048480</td>\n",
       "      <td>565464.153881</td>\n",
       "    </tr>\n",
       "  </tbody>\n",
       "</table>\n",
       "</div>"
      ],
      "text/plain": [
       "        consumption  consumption_1  consumption_2  consumption_3\n",
       "7396  562464.244579  570699.933083  561278.342934  527862.165731\n",
       "7397  565464.153881  562464.244579  570699.933083  561278.342934\n",
       "7398  593757.048480  565464.153881  562464.244579  570699.933083\n",
       "7399  606651.971117  593757.048480  565464.153881  562464.244579\n",
       "7400  570132.762731  606651.971117  593757.048480  565464.153881"
      ]
     },
     "execution_count": 19,
     "metadata": {},
     "output_type": "execute_result"
    }
   ],
   "source": [
    "def create_lagged_features(df, lag=1):\n",
    "    if not type(df) == pd.DataFrame:\n",
    "        df = pd.DataFrame(df, columns=['consumption'])\n",
    "    \n",
    "    def _rename_lag(ser, j):\n",
    "        ser.name = ser.name + f'_{j}'\n",
    "        return ser\n",
    "        \n",
    "    # add a column lagged by `i` steps\n",
    "    for i in range(1, lag + 1):\n",
    "        df = df.join(df.consumption.shift(i).pipe(_rename_lag, i))\n",
    "\n",
    "    df.dropna(inplace=True)\n",
    "    return df\n",
    "\n",
    "# example series\n",
    "test_series = consumption_train[consumption_train.series_id == 100283]\n",
    "create_lagged_features(test_series.consumption, lag=3).head()"
   ]
  },
  {
   "cell_type": "markdown",
   "metadata": {
    "_uuid": "035a15715266541ed986b5427f0e55b2d95df83d"
   },
   "source": [
    "**Function to Prepare Training Data for Model**"
   ]
  },
  {
   "cell_type": "markdown",
   "metadata": {
    "_uuid": "95ed57410239f7a681bfa0adb5f5b9ab0c1f615d"
   },
   "source": [
    "Before each series is processed, we'll need to convert it to a supervised learning problem, then scale the data. Let's create a function, prepare_training_data that we can call on each sample in our training loop."
   ]
  },
  {
   "cell_type": "code",
   "execution_count": 20,
   "metadata": {
    "ExecuteTime": {
     "end_time": "2018-12-16T11:22:48.855620Z",
     "start_time": "2018-12-16T11:22:33.205725Z"
    },
    "_uuid": "d1a0eea23ac62d068c6b58c10e21fe3b1ca9fb80"
   },
   "outputs": [
    {
     "name": "stdout",
     "output_type": "stream",
     "text": [
      "(667, 1, 5)\n",
      "(667,)\n",
      "MinMaxScaler(copy=True, feature_range=(-1, 1))\n"
     ]
    }
   ],
   "source": [
    "from sklearn.preprocessing import MinMaxScaler\n",
    "\n",
    "def prepare_training_data(consumption_series, lag):\n",
    "    \"\"\" Converts a series of consumption data into a\n",
    "        lagged, scaled sample.\n",
    "    \"\"\"\n",
    "    # scale training data\n",
    "    scaler = MinMaxScaler(feature_range=(-1, 1))\n",
    "    consumption_vals = scaler.fit_transform(consumption_series.values.reshape(-1, 1))\n",
    "    \n",
    "    # convert consumption series to lagged features\n",
    "    consumption_lagged = create_lagged_features(consumption_vals, lag=lag)\n",
    "\n",
    "    # X, y format taking the first column (original time series) to be the y\n",
    "    X = consumption_lagged.drop('consumption', axis=1).values\n",
    "    y = consumption_lagged.consumption.values\n",
    "    \n",
    "    # keras expects 3 dimensional X\n",
    "    X = X.reshape(X.shape[0], 1, X.shape[1])\n",
    "    \n",
    "    return X, y, scaler\n",
    "\n",
    "_X, _y, scaler = prepare_training_data(test_series.consumption, 5)\n",
    "print(_X.shape)\n",
    "print(_y.shape)\n",
    "print(scaler)"
   ]
  },
  {
   "cell_type": "markdown",
   "metadata": {
    "_uuid": "09cfbc8c36714a5664b716f6dc11dd958f94f2e2"
   },
   "source": [
    "Make Model"
   ]
  },
  {
   "cell_type": "code",
   "execution_count": 21,
   "metadata": {
    "ExecuteTime": {
     "end_time": "2018-12-16T11:29:21.432074Z",
     "start_time": "2018-12-16T11:29:21.390072Z"
    },
    "_uuid": "973b3c1f821019959a1e1b0f284ea30d7f7de81a"
   },
   "outputs": [
    {
     "name": "stderr",
     "output_type": "stream",
     "text": [
      "Using TensorFlow backend.\n"
     ]
    }
   ],
   "source": [
    "# modeling\n",
    "import keras\n",
    "from keras.models import Sequential\n",
    "from keras.layers import LSTM, Dense\n",
    "\n",
    "# progress bar\n",
    "from tqdm import tqdm"
   ]
  },
  {
   "cell_type": "markdown",
   "metadata": {
    "_uuid": "800c17a6ded0ceafff7be9d1efd427cfc8f6e0f0"
   },
   "source": [
    "Let's instantiate a Keras Sequential configuration and add to it a single recurrent cell followed by a dense layer to output regression values. \n",
    "\n",
    "We set **stateful=True** below as this allows the LSTM to learn the patterns within a batch (the lagged series data). Otherwise the state would be reset after each time step, but we want the model to develop states that depend on every timestep we show it."
   ]
  },
  {
   "cell_type": "code",
   "execution_count": 22,
   "metadata": {
    "ExecuteTime": {
     "end_time": "2018-12-16T11:28:33.793349Z",
     "start_time": "2018-12-16T11:28:33.745347Z"
    },
    "_uuid": "82a62f68d8a19063fbf0630498778e26a835cfb0"
   },
   "outputs": [],
   "source": [
    "# lag of 24 to simulate smallest cold start window. Our series\n",
    "# will be converted to a num_timesteps x lag size matrix\n",
    "lag =  24\n",
    "\n",
    "# model parameters\n",
    "num_neurons = 24\n",
    "batch_size = 1  # this forces the lstm to step through each time-step one at a time\n",
    "batch_input_shape=(batch_size, 1, lag)\n",
    "\n",
    "# instantiate a sequential model\n",
    "model = Sequential()\n",
    "\n",
    "# add LSTM layer - stateful MUST be true here in  order to learn the patterns within a series\n",
    "model.add(LSTM(units=num_neurons, \n",
    "              batch_input_shape=batch_input_shape, \n",
    "              stateful=True))\n",
    "\n",
    "# followed by a dense layer with a single output for regression\n",
    "model.add(Dense(1))\n",
    "\n",
    "# compile\n",
    "model.compile(loss='mean_absolute_error', optimizer='adam')"
   ]
  },
  {
   "cell_type": "markdown",
   "metadata": {
    "_uuid": "e4d5f9d9a5d9eed7c8ac7829b35aad3d61737879"
   },
   "source": [
    "**Fit Model**"
   ]
  },
  {
   "cell_type": "markdown",
   "metadata": {
    "_uuid": "def4e2df4ad43f4ac38ecfb5a6be2c798e6bb1c9"
   },
   "source": [
    "Will fit each 4 week series using a 24 hour lag, so that ideally the model learns at least patterns over a single day.\n",
    "\n",
    "To train, we pass through the consumption data, grouped by series_id. For each series, we first prepare_training_data, then fit using that data, resetting the state only after each row of the series has been seen. In this way, each lagged timeseries is learned by the network before the state is reset and the next series is passed in."
   ]
  },
  {
   "cell_type": "code",
   "execution_count": 24,
   "metadata": {
    "ExecuteTime": {
     "end_time": "2018-12-16T11:27:45.581592Z",
     "start_time": "2018-12-16T11:27:45.361579Z"
    },
    "_uuid": "7d4f9aaf4c3c810740a2d047650edf371f73770b",
    "scrolled": true
   },
   "outputs": [
    {
     "name": "stderr",
     "output_type": "stream",
     "text": [
      "Learning Consumption Trends - Epoch: 100%|██████████| 10/10 [01:42<00:00, 10.24s/it]"
     ]
    },
    {
     "name": "stdout",
     "output_type": "stream",
     "text": [
      "CPU times: user 3min 42s, sys: 34.9 s, total: 4min 17s\n",
      "Wall time: 1min 42s\n"
     ]
    },
    {
     "name": "stderr",
     "output_type": "stream",
     "text": [
      "\n"
     ]
    }
   ],
   "source": [
    "%%time\n",
    "num_training_series = consumption_train.series_id.nunique()\n",
    "num_passes_through_data = 10\n",
    "\n",
    "for i in tqdm(range(num_passes_through_data), \n",
    "              total=num_passes_through_data, \n",
    "              desc='Learning Consumption Trends - Epoch'):\n",
    "    \n",
    "    # reset the LSTM state for training on each series\n",
    "    for ser_id, ser_data in consumption_train.groupby('series_id'):\n",
    "\n",
    "        # prepare the data\n",
    "        X, y, scaler = prepare_training_data(ser_data.consumption, lag)\n",
    "\n",
    "        # fit the model: note that we don't shuffle batches (it would ruin the sequence)\n",
    "        # and that we reset states only after an entire X has been fit, instead of after\n",
    "        # each (size 1) batch, as is the case when stateful=False\n",
    "        model.fit(X, y, epochs=1, batch_size=batch_size, verbose=0, shuffle=False)\n",
    "        model.reset_states()"
   ]
  },
  {
   "cell_type": "markdown",
   "metadata": {
    "_uuid": "c0aa8359978403021de22cfb6355871bb18d0d4a"
   },
   "source": [
    "To generate our submission, we'll loop over submission format grouping by series_id as above. Within each iteration, we'll need to\n",
    "\n",
    "+ prepare the cold start data\n",
    "+ generate the forecast\n",
    "\n",
    "To generate the forecast, we'll\n",
    "\n",
    "+ build up the internal state using the prepared cold start data\n",
    "+ predict all hours in the prediction window\n",
    "+ aggregate the forecast appropriately for the submission"
   ]
  },
  {
   "cell_type": "markdown",
   "metadata": {
    "_uuid": "c93f0d78b8320dbc3f900c0b49d696443a6278b7"
   },
   "source": [
    "Function to Generate Forecast"
   ]
  },
  {
   "cell_type": "code",
   "execution_count": 25,
   "metadata": {
    "_uuid": "9bf1e1f323c9ba8d9ad0e3e91a78eb4b67aabf69"
   },
   "outputs": [],
   "source": [
    "def generate_hourly_forecast(num_pred_hours, consumption, model, scaler, lag):\n",
    "    \"\"\" Uses last hour's prediction to generate next for num_pred_hours, \n",
    "        initialized by most recent cold start prediction. Inverts scale of \n",
    "        predictions before return.\n",
    "    \"\"\"\n",
    "    # allocate prediction frame\n",
    "    preds_scaled = np.zeros(num_pred_hours)\n",
    "    \n",
    "    # initial X is last lag values from the cold start\n",
    "    X = scaler.transform(consumption.values.reshape(-1, 1))[-lag:]\n",
    "    \n",
    "    # forecast\n",
    "    for i in range(num_pred_hours):\n",
    "        # predict scaled value for next time step\n",
    "        yhat = model.predict(X.reshape(1, 1, lag), batch_size=1)[0][0]\n",
    "        preds_scaled[i] = yhat\n",
    "        \n",
    "        # update X to be latest data plus prediction\n",
    "        X = pd.Series(X.ravel()).shift(-1).fillna(yhat).values\n",
    "\n",
    "    # revert scale back to original range\n",
    "    hourly_preds = scaler.inverse_transform(preds_scaled.reshape(-1, 1)).ravel()\n",
    "    return hourly_preds"
   ]
  },
  {
   "cell_type": "code",
   "execution_count": 26,
   "metadata": {
    "_uuid": "956758b28d98f1aa24e3f346985fa2e4cb432d9e"
   },
   "outputs": [],
   "source": [
    "# copy submission format and fill in values\n",
    "my_submission = submission_format.copy()"
   ]
  },
  {
   "cell_type": "markdown",
   "metadata": {
    "_uuid": "2763e8bc3246d33ab148ced948f2e8783dd84d2e"
   },
   "source": [
    "Make Predictions: Forecast the Cold Start Data"
   ]
  },
  {
   "cell_type": "code",
   "execution_count": 27,
   "metadata": {
    "_uuid": "eb67faa4dfdd184ce7c63f7629856acd7d04dcb2"
   },
   "outputs": [
    {
     "name": "stderr",
     "output_type": "stream",
     "text": [
      "Forecasting from Cold Start Data: 100%|██████████| 625/625 [04:33<00:00,  2.16it/s]"
     ]
    },
    {
     "name": "stdout",
     "output_type": "stream",
     "text": [
      "CPU times: user 8min 21s, sys: 1min 14s, total: 9min 36s\n",
      "Wall time: 4min 34s\n"
     ]
    },
    {
     "name": "stderr",
     "output_type": "stream",
     "text": [
      "\n"
     ]
    }
   ],
   "source": [
    "%%time\n",
    "pred_window_to_num_preds = {'hourly': 24, 'daily': 7, 'weekly': 2}\n",
    "pred_window_to_num_pred_hours = {'hourly': 24, 'daily': 7 * 24, 'weekly': 2 * 7 * 24}\n",
    "\n",
    "num_test_series = my_submission.series_id.nunique()\n",
    "\n",
    "model.reset_states()\n",
    "\n",
    "for ser_id, pred_df in tqdm(my_submission.groupby('series_id'), \n",
    "                            total=num_test_series, \n",
    "                            desc=\"Forecasting from Cold Start Data\"):\n",
    "        \n",
    "    # get info about this series' prediction window\n",
    "    pred_window = pred_df.prediction_window.unique()[0]\n",
    "    num_preds = pred_window_to_num_preds[pred_window]\n",
    "    num_pred_hours = pred_window_to_num_pred_hours[pred_window]\n",
    "    \n",
    "    # prepare cold start data\n",
    "    series_data = cold_start_test[cold_start_test.series_id == ser_id].consumption\n",
    "    cold_X, cold_y, scaler = prepare_training_data(series_data, lag)\n",
    "    \n",
    "    # fine tune our lstm model to this site using cold start data    \n",
    "    model.fit(cold_X, cold_y, epochs=1, batch_size=batch_size, verbose=0, shuffle=False)\n",
    "    \n",
    "    # make hourly forecasts for duration of pred window\n",
    "    preds = generate_hourly_forecast(num_pred_hours, series_data, model, scaler, lag)\n",
    "    \n",
    "    # reduce by taking sum over each sub window in pred window\n",
    "    reduced_preds = [pred.sum() for pred in np.split(preds, num_preds)]\n",
    "    \n",
    "    # store result in submission DataFrame\n",
    "    ser_id_mask = my_submission.series_id == ser_id\n",
    "    my_submission.loc[ser_id_mask, 'consumption'] = reduced_preds"
   ]
  },
  {
   "cell_type": "markdown",
   "metadata": {
    "_uuid": "18d392ac5d1e9299571f84df512d56c04526e42e"
   },
   "source": [
    "Lets take a look at the descritpive statistics of our prediction windows:"
   ]
  },
  {
   "cell_type": "code",
   "execution_count": 28,
   "metadata": {
    "_uuid": "3264c6b7cda0d268ddc06f60a2f1712ffbdb1f3a"
   },
   "outputs": [
    {
     "data": {
      "text/plain": [
       "count    5.808000e+03\n",
       "mean     1.661627e+05\n",
       "std      6.175934e+05\n",
       "min     -7.748920e+03\n",
       "25%      1.592940e+04\n",
       "50%      3.653473e+04\n",
       "75%      9.300091e+04\n",
       "max      5.176793e+06\n",
       "Name: consumption, dtype: float64"
      ]
     },
     "execution_count": 28,
     "metadata": {},
     "output_type": "execute_result"
    }
   ],
   "source": [
    "my_submission[my_submission.prediction_window == 'hourly'].consumption.describe()"
   ]
  },
  {
   "cell_type": "code",
   "execution_count": 29,
   "metadata": {
    "_uuid": "e1aca922c283fea3302bea9d406d94a5e6ea533f",
    "scrolled": true
   },
   "outputs": [
    {
     "data": {
      "text/plain": [
       "count    1.337000e+03\n",
       "mean     3.326671e+06\n",
       "std      9.872146e+06\n",
       "min      4.041084e+03\n",
       "25%      3.861992e+05\n",
       "50%      8.575795e+05\n",
       "75%      2.583155e+06\n",
       "max      1.166192e+08\n",
       "Name: consumption, dtype: float64"
      ]
     },
     "execution_count": 29,
     "metadata": {},
     "output_type": "execute_result"
    }
   ],
   "source": [
    "my_submission[my_submission.prediction_window == 'daily'].consumption.describe()"
   ]
  },
  {
   "cell_type": "code",
   "execution_count": 30,
   "metadata": {
    "_uuid": "330e77ec83235df71b04effe5b274f337e2cbed9"
   },
   "outputs": [
    {
     "data": {
      "text/plain": [
       "count    3.840000e+02\n",
       "mean     2.280562e+07\n",
       "std      6.368961e+07\n",
       "min     -1.433042e+06\n",
       "25%      2.891505e+06\n",
       "50%      7.396009e+06\n",
       "75%      1.906524e+07\n",
       "max      7.354833e+08\n",
       "Name: consumption, dtype: float64"
      ]
     },
     "execution_count": 30,
     "metadata": {},
     "output_type": "execute_result"
    }
   ],
   "source": [
    "my_submission[my_submission.prediction_window == 'weekly'].consumption.describe()"
   ]
  },
  {
   "cell_type": "code",
   "execution_count": 31,
   "metadata": {
    "_uuid": "b45e2a2e63bb2cfe078ffabff68bf65364caef11"
   },
   "outputs": [
    {
     "data": {
      "text/plain": [
       "<matplotlib.axes._subplots.AxesSubplot at 0x7fcaa02e50b8>"
      ]
     },
     "execution_count": 31,
     "metadata": {},
     "output_type": "execute_result"
    },
    {
     "data": {
      "image/png": "[encoded data removed]",
      "text/plain": [
       "<Figure size 432x288 with 1 Axes>"
      ]
     },
     "metadata": {},
     "output_type": "display_data"
    }
   ],
   "source": [
    "# plot samples\n",
    "sample_ser = (my_submission[my_submission.prediction_window == 'hourly']\n",
    "                           .series_id\n",
    "                           .sample().values[0])\n",
    "\n",
    "(my_submission[my_submission.series_id == sample_ser]\n",
    "              .plot(x='timestamp',\n",
    "                    y='consumption',\n",
    "                    title=sample_ser,\n",
    "                    rot=90))"
   ]
  },
  {
   "cell_type": "code",
   "execution_count": 32,
   "metadata": {
    "_uuid": "aa69dd498b8104c531314c5d0d033e51dc9213db",
    "scrolled": false
   },
   "outputs": [
    {
     "data": {
      "text/html": [
       "<div>\n",
       "<style scoped>\n",
       "    .dataframe tbody tr th:only-of-type {\n",
       "        vertical-align: middle;\n",
       "    }\n",
       "\n",
       "    .dataframe tbody tr th {\n",
       "        vertical-align: top;\n",
       "    }\n",
       "\n",
       "    .dataframe thead th {\n",
       "        text-align: right;\n",
       "    }\n",
       "</style>\n",
       "<table border=\"1\" class=\"dataframe\">\n",
       "  <thead>\n",
       "    <tr style=\"text-align: right;\">\n",
       "      <th></th>\n",
       "      <th>series_id</th>\n",
       "      <th>timestamp</th>\n",
       "      <th>temperature</th>\n",
       "      <th>consumption</th>\n",
       "      <th>prediction_window</th>\n",
       "    </tr>\n",
       "    <tr>\n",
       "      <th>pred_id</th>\n",
       "      <th></th>\n",
       "      <th></th>\n",
       "      <th></th>\n",
       "      <th></th>\n",
       "      <th></th>\n",
       "    </tr>\n",
       "  </thead>\n",
       "  <tbody>\n",
       "    <tr>\n",
       "      <th>0</th>\n",
       "      <td>102781</td>\n",
       "      <td>2013-03-03</td>\n",
       "      <td>19.931250</td>\n",
       "      <td>419608.397691</td>\n",
       "      <td>daily</td>\n",
       "    </tr>\n",
       "    <tr>\n",
       "      <th>1</th>\n",
       "      <td>102781</td>\n",
       "      <td>2013-03-04</td>\n",
       "      <td>20.034375</td>\n",
       "      <td>436470.714393</td>\n",
       "      <td>daily</td>\n",
       "    </tr>\n",
       "    <tr>\n",
       "      <th>2</th>\n",
       "      <td>102781</td>\n",
       "      <td>2013-03-05</td>\n",
       "      <td>19.189583</td>\n",
       "      <td>443046.228172</td>\n",
       "      <td>daily</td>\n",
       "    </tr>\n",
       "    <tr>\n",
       "      <th>3</th>\n",
       "      <td>102781</td>\n",
       "      <td>2013-03-06</td>\n",
       "      <td>18.397917</td>\n",
       "      <td>445718.362932</td>\n",
       "      <td>daily</td>\n",
       "    </tr>\n",
       "    <tr>\n",
       "      <th>4</th>\n",
       "      <td>102781</td>\n",
       "      <td>2013-03-07</td>\n",
       "      <td>20.762500</td>\n",
       "      <td>446852.486791</td>\n",
       "      <td>daily</td>\n",
       "    </tr>\n",
       "  </tbody>\n",
       "</table>\n",
       "</div>"
      ],
      "text/plain": [
       "         series_id  timestamp        ...            consumption  prediction_window\n",
       "pred_id                              ...                                          \n",
       "0           102781 2013-03-03        ...          419608.397691              daily\n",
       "1           102781 2013-03-04        ...          436470.714393              daily\n",
       "2           102781 2013-03-05        ...          443046.228172              daily\n",
       "3           102781 2013-03-06        ...          445718.362932              daily\n",
       "4           102781 2013-03-07        ...          446852.486791              daily\n",
       "\n",
       "[5 rows x 5 columns]"
      ]
     },
     "execution_count": 32,
     "metadata": {},
     "output_type": "execute_result"
    }
   ],
   "source": [
    "my_submission.head(5)"
   ]
  },
  {
   "cell_type": "markdown",
   "metadata": {},
   "source": [
    "**Write predictions to file and submit**"
   ]
  },
  {
   "cell_type": "code",
   "execution_count": null,
   "metadata": {
    "_uuid": "85a46e8356ed81d1793e7c8c4ee0dec975e6c2b6",
    "collapsed": true
   },
   "outputs": [],
   "source": [
    "#save_path = Path('..', 'data', 'submissions')\n",
    "#save_path.mkdir(exist_ok=True, parents=True)\n",
    "\n",
    "my_submission.to_csv('../output/my_submmission5.csv', index_label='pred_id')"
   ]
  }
 ],
 "metadata": {
  "kernelspec": {
   "display_name": "Python 3",
   "language": "python",
   "name": "python3"
  },
  "language_info": {
   "codemirror_mode": {
    "name": "ipython",
    "version": 3
   },
   "file_extension": ".py",
   "mimetype": "text/x-python",
   "name": "python",
   "nbconvert_exporter": "python",
   "pygments_lexer": "ipython3",
   "version": "3.6.5"
  },
  "toc": {
   "base_numbering": 1,
   "nav_menu": {},
   "number_sections": true,
   "sideBar": true,
   "skip_h1_title": false,
   "title_cell": "Table of Contents",
   "title_sidebar": "Contents",
   "toc_cell": false,
   "toc_position": {},
   "toc_section_display": true,
   "toc_window_display": false
  },
  "varInspector": {
   "cols": {
    "lenName": 16,
    "lenType": 16,
    "lenVar": 40
   },
   "kernels_config": {
    "python": {
     "delete_cmd_postfix": "",
     "delete_cmd_prefix": "del ",
     "library": "var_list.py",
     "varRefreshCmd": "print(var_dic_list())"
    },
    "r": {
     "delete_cmd_postfix": ") ",
     "delete_cmd_prefix": "rm(",
     "library": "var_list.r",
     "varRefreshCmd": "cat(var_dic_list()) "
    }
   },
   "types_to_exclude": [
    "module",
    "function",
    "builtin_function_or_method",
    "instance",
    "_Feature"
   ],
   "window_display": false
  }
 },
 "nbformat": 4,
 "nbformat_minor": 1
}
