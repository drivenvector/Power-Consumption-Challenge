{
 "cells": [
  {
   "cell_type": "markdown",
   "metadata": {},
   "source": [
    "This R jupyter notebook contains exploratory data analysis and data preprocessing.\n",
    "\n",
    "Description of dataframes:\n",
    "\n",
    "* **train**: training dataset containing series id of the buildings, timestamp, their corresponding power consumption, surrounding temperature from weather stations\n",
    "* **meta**: contains meta data about building such as surface area, day of the week\n",
    "* **test**: description same as train\n",
    "* **submission format**: contains the format in which the submission csv needs to be in. The series id have windows against them that needs the power consumption in hourly, daily or bi-weekly basis."
   ]
  },
  {
   "cell_type": "code",
   "execution_count": 1,
   "metadata": {
    "ExecuteTime": {
     "end_time": "2018-12-16T08:49:43.023220Z",
     "start_time": "2018-12-16T08:49:42.918Z"
    }
   },
   "outputs": [],
   "source": [
    "options(warn=-1)  # Turn off warnings"
   ]
  },
  {
   "cell_type": "code",
   "execution_count": 2,
   "metadata": {
    "ExecuteTime": {
     "end_time": "2018-12-16T08:50:28.007793Z",
     "start_time": "2018-12-16T08:49:44.745Z"
    }
   },
   "outputs": [
    {
     "name": "stderr",
     "output_type": "stream",
     "text": [
      "Loading required package: caret\n",
      "Loading required package: lattice\n",
      "Loading required package: ggplot2\n"
     ]
    },
    {
     "name": "stdout",
     "output_type": "stream",
     "text": [
      "[1] \"caret library already installed\"\n"
     ]
    },
    {
     "name": "stderr",
     "output_type": "stream",
     "text": [
      "Loading required package: e1071\n"
     ]
    },
    {
     "name": "stdout",
     "output_type": "stream",
     "text": [
      "[1] \"e1071 library already installed\"\n"
     ]
    },
    {
     "name": "stderr",
     "output_type": "stream",
     "text": [
      "Loading required package: broom\n"
     ]
    },
    {
     "name": "stdout",
     "output_type": "stream",
     "text": [
      "[1] \"broom library already installed\"\n"
     ]
    },
    {
     "name": "stderr",
     "output_type": "stream",
     "text": [
      "Loading required package: tidyverse\n",
      "-- Attaching packages --------------------------------------- tidyverse 1.2.1 --\n",
      "v tibble  1.4.1     v purrr   0.2.4\n",
      "v tidyr   0.7.2     v dplyr   0.7.4\n",
      "v readr   1.1.1     v stringr 1.2.0\n",
      "v tibble  1.4.1     v forcats 0.2.0\n",
      "-- Conflicts ------------------------------------------ tidyverse_conflicts() --\n",
      "x dplyr::filter()  masks stats::filter()\n",
      "x purrr::flatten() masks jsonlite::flatten()\n",
      "x dplyr::lag()     masks stats::lag()\n",
      "x purrr::lift()    masks caret::lift()\n"
     ]
    },
    {
     "name": "stdout",
     "output_type": "stream",
     "text": [
      "[1] \"tidyverse library already installed\"\n"
     ]
    },
    {
     "name": "stderr",
     "output_type": "stream",
     "text": [
      "Loading required package: lubridate\n",
      "\n",
      "Attaching package: 'lubridate'\n",
      "\n",
      "The following object is masked from 'package:base':\n",
      "\n",
      "    date\n",
      "\n"
     ]
    },
    {
     "name": "stdout",
     "output_type": "stream",
     "text": [
      "[1] \"lubridate library already installed\"\n"
     ]
    },
    {
     "name": "stderr",
     "output_type": "stream",
     "text": [
      "Loading required package: mice\n",
      "\n",
      "Attaching package: 'mice'\n",
      "\n",
      "The following object is masked from 'package:tidyr':\n",
      "\n",
      "    complete\n",
      "\n",
      "The following objects are masked from 'package:base':\n",
      "\n",
      "    cbind, rbind\n",
      "\n"
     ]
    },
    {
     "name": "stdout",
     "output_type": "stream",
     "text": [
      "[1] \"mice library already installed\"\n"
     ]
    },
    {
     "name": "stderr",
     "output_type": "stream",
     "text": [
      "Loading required package: magrittr\n",
      "\n",
      "Attaching package: 'magrittr'\n",
      "\n",
      "The following object is masked from 'package:purrr':\n",
      "\n",
      "    set_names\n",
      "\n",
      "The following object is masked from 'package:tidyr':\n",
      "\n",
      "    extract\n",
      "\n"
     ]
    },
    {
     "name": "stdout",
     "output_type": "stream",
     "text": [
      "[1] \"magrittr library already installed\"\n"
     ]
    },
    {
     "name": "stderr",
     "output_type": "stream",
     "text": [
      "Loading required package: prophet\n",
      "Loading required package: Rcpp\n"
     ]
    },
    {
     "name": "stdout",
     "output_type": "stream",
     "text": [
      "[1] \"prophet library already installed\"\n"
     ]
    },
    {
     "name": "stderr",
     "output_type": "stream",
     "text": [
      "Loading required package: zoo\n",
      "\n",
      "Attaching package: 'zoo'\n",
      "\n",
      "The following objects are masked from 'package:base':\n",
      "\n",
      "    as.Date, as.Date.numeric\n",
      "\n"
     ]
    },
    {
     "name": "stdout",
     "output_type": "stream",
     "text": [
      "[1] \"zoo library already installed\"\n"
     ]
    },
    {
     "name": "stderr",
     "output_type": "stream",
     "text": [
      "Loading required package: forecast\n"
     ]
    },
    {
     "name": "stdout",
     "output_type": "stream",
     "text": [
      "[1] \"forecast library already installed\"\n"
     ]
    },
    {
     "name": "stderr",
     "output_type": "stream",
     "text": [
      "Loading required package: xts\n",
      "\n",
      "Attaching package: 'xts'\n",
      "\n",
      "The following objects are masked from 'package:dplyr':\n",
      "\n",
      "    first, last\n",
      "\n"
     ]
    },
    {
     "name": "stdout",
     "output_type": "stream",
     "text": [
      "[1] \"xts library already installed\"\n",
      "[1] \"List of the attached packages in your session: \"\n"
     ]
    },
    {
     "data": {
      "text/html": [
       "<ol class=list-inline>\n",
       "\t<li>'.GlobalEnv'</li>\n",
       "\t<li>'package:xts'</li>\n",
       "\t<li>'package:forecast'</li>\n",
       "\t<li>'package:zoo'</li>\n",
       "\t<li>'package:prophet'</li>\n",
       "\t<li>'package:Rcpp'</li>\n",
       "\t<li>'package:magrittr'</li>\n",
       "\t<li>'package:mice'</li>\n",
       "\t<li>'package:lubridate'</li>\n",
       "\t<li>'package:forcats'</li>\n",
       "\t<li>'package:stringr'</li>\n",
       "\t<li>'package:dplyr'</li>\n",
       "\t<li>'package:purrr'</li>\n",
       "\t<li>'package:readr'</li>\n",
       "\t<li>'package:tidyr'</li>\n",
       "\t<li>'package:tibble'</li>\n",
       "\t<li>'package:tidyverse'</li>\n",
       "\t<li>'package:broom'</li>\n",
       "\t<li>'package:e1071'</li>\n",
       "\t<li>'package:caret'</li>\n",
       "\t<li>'package:ggplot2'</li>\n",
       "\t<li>'package:lattice'</li>\n",
       "\t<li>'package:jsonlite'</li>\n",
       "\t<li>'jupyter:irkernel'</li>\n",
       "\t<li>'package:RevoUtils'</li>\n",
       "\t<li>'package:stats'</li>\n",
       "\t<li>'package:graphics'</li>\n",
       "\t<li>'package:grDevices'</li>\n",
       "\t<li>'package:utils'</li>\n",
       "\t<li>'package:datasets'</li>\n",
       "\t<li>'package:RevoUtilsMath'</li>\n",
       "\t<li>'package:methods'</li>\n",
       "\t<li>'Autoloads'</li>\n",
       "\t<li>'package:base'</li>\n",
       "</ol>\n"
      ],
      "text/latex": [
       "\\begin{enumerate*}\n",
       "\\item '.GlobalEnv'\n",
       "\\item 'package:xts'\n",
       "\\item 'package:forecast'\n",
       "\\item 'package:zoo'\n",
       "\\item 'package:prophet'\n",
       "\\item 'package:Rcpp'\n",
       "\\item 'package:magrittr'\n",
       "\\item 'package:mice'\n",
       "\\item 'package:lubridate'\n",
       "\\item 'package:forcats'\n",
       "\\item 'package:stringr'\n",
       "\\item 'package:dplyr'\n",
       "\\item 'package:purrr'\n",
       "\\item 'package:readr'\n",
       "\\item 'package:tidyr'\n",
       "\\item 'package:tibble'\n",
       "\\item 'package:tidyverse'\n",
       "\\item 'package:broom'\n",
       "\\item 'package:e1071'\n",
       "\\item 'package:caret'\n",
       "\\item 'package:ggplot2'\n",
       "\\item 'package:lattice'\n",
       "\\item 'package:jsonlite'\n",
       "\\item 'jupyter:irkernel'\n",
       "\\item 'package:RevoUtils'\n",
       "\\item 'package:stats'\n",
       "\\item 'package:graphics'\n",
       "\\item 'package:grDevices'\n",
       "\\item 'package:utils'\n",
       "\\item 'package:datasets'\n",
       "\\item 'package:RevoUtilsMath'\n",
       "\\item 'package:methods'\n",
       "\\item 'Autoloads'\n",
       "\\item 'package:base'\n",
       "\\end{enumerate*}\n"
      ],
      "text/markdown": [
       "1. '.GlobalEnv'\n",
       "2. 'package:xts'\n",
       "3. 'package:forecast'\n",
       "4. 'package:zoo'\n",
       "5. 'package:prophet'\n",
       "6. 'package:Rcpp'\n",
       "7. 'package:magrittr'\n",
       "8. 'package:mice'\n",
       "9. 'package:lubridate'\n",
       "10. 'package:forcats'\n",
       "11. 'package:stringr'\n",
       "12. 'package:dplyr'\n",
       "13. 'package:purrr'\n",
       "14. 'package:readr'\n",
       "15. 'package:tidyr'\n",
       "16. 'package:tibble'\n",
       "17. 'package:tidyverse'\n",
       "18. 'package:broom'\n",
       "19. 'package:e1071'\n",
       "20. 'package:caret'\n",
       "21. 'package:ggplot2'\n",
       "22. 'package:lattice'\n",
       "23. 'package:jsonlite'\n",
       "24. 'jupyter:irkernel'\n",
       "25. 'package:RevoUtils'\n",
       "26. 'package:stats'\n",
       "27. 'package:graphics'\n",
       "28. 'package:grDevices'\n",
       "29. 'package:utils'\n",
       "30. 'package:datasets'\n",
       "31. 'package:RevoUtilsMath'\n",
       "32. 'package:methods'\n",
       "33. 'Autoloads'\n",
       "34. 'package:base'\n",
       "\n",
       "\n"
      ],
      "text/plain": [
       " [1] \".GlobalEnv\"            \"package:xts\"           \"package:forecast\"     \n",
       " [4] \"package:zoo\"           \"package:prophet\"       \"package:Rcpp\"         \n",
       " [7] \"package:magrittr\"      \"package:mice\"          \"package:lubridate\"    \n",
       "[10] \"package:forcats\"       \"package:stringr\"       \"package:dplyr\"        \n",
       "[13] \"package:purrr\"         \"package:readr\"         \"package:tidyr\"        \n",
       "[16] \"package:tibble\"        \"package:tidyverse\"     \"package:broom\"        \n",
       "[19] \"package:e1071\"         \"package:caret\"         \"package:ggplot2\"      \n",
       "[22] \"package:lattice\"       \"package:jsonlite\"      \"jupyter:irkernel\"     \n",
       "[25] \"package:RevoUtils\"     \"package:stats\"         \"package:graphics\"     \n",
       "[28] \"package:grDevices\"     \"package:utils\"         \"package:datasets\"     \n",
       "[31] \"package:RevoUtilsMath\" \"package:methods\"       \"Autoloads\"            \n",
       "[34] \"package:base\"         "
      ]
     },
     "metadata": {},
     "output_type": "display_data"
    }
   ],
   "source": [
    "requiredPackages = c('caret', 'e1071','broom',\n",
    "                     'tidyverse', 'lubridate','mice', 'magrittr',\n",
    "                     'prophet', 'zoo', 'forecast', 'xts')\n",
    "for(p in requiredPackages)\n",
    "{\n",
    "  if(!require(p,character.only = TRUE)) \n",
    "  {\n",
    "    install.packages(p,dependencies=TRUE, repos='http://cran.rstudio.com/')\n",
    "    print(paste(p,\"installed successfully\"))\n",
    "    library(p,character.only = TRUE)\n",
    "  }\n",
    "  else{print(paste(p , \"library already installed\"))}\n",
    "}\n",
    "print(\"List of the attached packages in your session: \" )\n",
    "search()"
   ]
  },
  {
   "cell_type": "markdown",
   "metadata": {
    "ExecuteTime": {
     "end_time": "2018-12-08T14:59:42.543607Z",
     "start_time": "2018-12-08T14:47:46.350Z"
    }
   },
   "source": [
    "**Import the datasets**"
   ]
  },
  {
   "cell_type": "markdown",
   "metadata": {},
   "source": [
    "The advantage of reading dplyr::read_csv() is that it automatically detects the datatype of the columns and parses them correctly to be used in the dataframe. Also, its faster than the default read.csv() from base R."
   ]
  },
  {
   "cell_type": "code",
   "execution_count": 3,
   "metadata": {
    "ExecuteTime": {
     "end_time": "2018-12-16T08:51:13.833415Z",
     "start_time": "2018-12-16T08:51:09.047Z"
    }
   },
   "outputs": [
    {
     "name": "stderr",
     "output_type": "stream",
     "text": [
      "Parsed with column specification:\n",
      "cols(\n",
      "  X1 = col_integer(),\n",
      "  series_id = col_integer(),\n",
      "  timestamp = col_datetime(format = \"\"),\n",
      "  consumption = col_double(),\n",
      "  temperature = col_double()\n",
      ")\n",
      "Parsed with column specification:\n",
      "cols(\n",
      "  series_id = col_integer(),\n",
      "  surface = col_character(),\n",
      "  base_temperature = col_character(),\n",
      "  monday_is_day_off = col_character(),\n",
      "  tuesday_is_day_off = col_character(),\n",
      "  wednesday_is_day_off = col_character(),\n",
      "  thursday_is_day_off = col_character(),\n",
      "  friday_is_day_off = col_character(),\n",
      "  saturday_is_day_off = col_character(),\n",
      "  sunday_is_day_off = col_character()\n",
      ")\n",
      "Parsed with column specification:\n",
      "cols(\n",
      "  X1 = col_integer(),\n",
      "  series_id = col_integer(),\n",
      "  timestamp = col_datetime(format = \"\"),\n",
      "  consumption = col_double(),\n",
      "  temperature = col_double()\n",
      ")\n",
      "Parsed with column specification:\n",
      "cols(\n",
      "  pred_id = col_integer(),\n",
      "  series_id = col_integer(),\n",
      "  timestamp = col_datetime(format = \"\"),\n",
      "  temperature = col_double(),\n",
      "  consumption = col_double(),\n",
      "  prediction_window = col_character()\n",
      ")\n"
     ]
    }
   ],
   "source": [
    "train <- read_csv('../datasets/consumption_train.csv')\n",
    "meta <- read_csv('../datasets/meta.csv')\n",
    "test <- read_csv('../datasets/cold_start_test.csv')\n",
    "submission_format <- read_csv('../datasets/submission_format.csv')"
   ]
  },
  {
   "cell_type": "markdown",
   "metadata": {},
   "source": [
    "Lets take a look at the **structure** of the data to get a understanding of what the datasets consists of, what their datatypes are etc."
   ]
  },
  {
   "cell_type": "code",
   "execution_count": 4,
   "metadata": {
    "ExecuteTime": {
     "end_time": "2018-12-16T08:54:59.982349Z",
     "start_time": "2018-12-16T08:51:23.587Z"
    }
   },
   "outputs": [
    {
     "name": "stdout",
     "output_type": "stream",
     "text": [
      "Classes 'tbl_df', 'tbl' and 'data.frame':\t1383 obs. of  10 variables:\n",
      " $ series_id           : int  100003 100004 100006 100008 100010 100012 100017 100020 100021 100025 ...\n",
      " $ surface             : chr  \"x-large\" \"x-large\" \"x-small\" \"x-small\" ...\n",
      " $ base_temperature    : chr  \"low\" \"low\" \"low\" \"low\" ...\n",
      " $ monday_is_day_off   : chr  \"False\" \"False\" \"False\" \"False\" ...\n",
      " $ tuesday_is_day_off  : chr  \"False\" \"False\" \"False\" \"False\" ...\n",
      " $ wednesday_is_day_off: chr  \"False\" \"False\" \"False\" \"False\" ...\n",
      " $ thursday_is_day_off : chr  \"False\" \"False\" \"False\" \"False\" ...\n",
      " $ friday_is_day_off   : chr  \"False\" \"False\" \"False\" \"False\" ...\n",
      " $ saturday_is_day_off : chr  \"True\" \"True\" \"True\" \"True\" ...\n",
      " $ sunday_is_day_off   : chr  \"True\" \"True\" \"True\" \"True\" ...\n",
      " - attr(*, \"spec\")=List of 2\n",
      "  ..$ cols   :List of 10\n",
      "  .. ..$ series_id           : list()\n",
      "  .. .. ..- attr(*, \"class\")= chr  \"collector_integer\" \"collector\"\n",
      "  .. ..$ surface             : list()\n",
      "  .. .. ..- attr(*, \"class\")= chr  \"collector_character\" \"collector\"\n",
      "  .. ..$ base_temperature    : list()\n",
      "  .. .. ..- attr(*, \"class\")= chr  \"collector_character\" \"collector\"\n",
      "  .. ..$ monday_is_day_off   : list()\n",
      "  .. .. ..- attr(*, \"class\")= chr  \"collector_character\" \"collector\"\n",
      "  .. ..$ tuesday_is_day_off  : list()\n",
      "  .. .. ..- attr(*, \"class\")= chr  \"collector_character\" \"collector\"\n",
      "  .. ..$ wednesday_is_day_off: list()\n",
      "  .. .. ..- attr(*, \"class\")= chr  \"collector_character\" \"collector\"\n",
      "  .. ..$ thursday_is_day_off : list()\n",
      "  .. .. ..- attr(*, \"class\")= chr  \"collector_character\" \"collector\"\n",
      "  .. ..$ friday_is_day_off   : list()\n",
      "  .. .. ..- attr(*, \"class\")= chr  \"collector_character\" \"collector\"\n",
      "  .. ..$ saturday_is_day_off : list()\n",
      "  .. .. ..- attr(*, \"class\")= chr  \"collector_character\" \"collector\"\n",
      "  .. ..$ sunday_is_day_off   : list()\n",
      "  .. .. ..- attr(*, \"class\")= chr  \"collector_character\" \"collector\"\n",
      "  ..$ default: list()\n",
      "  .. ..- attr(*, \"class\")= chr  \"collector_guess\" \"collector\"\n",
      "  ..- attr(*, \"class\")= chr \"col_spec\"\n"
     ]
    }
   ],
   "source": [
    "# 1 take a look at the structure of the data\n",
    "str(meta)   # 1383 obs. of  10 variables"
   ]
  },
  {
   "cell_type": "code",
   "execution_count": 5,
   "metadata": {
    "ExecuteTime": {
     "end_time": "2018-12-16T08:58:46.430302Z",
     "start_time": "2018-12-16T08:55:14.071Z"
    },
    "scrolled": true
   },
   "outputs": [
    {
     "name": "stdout",
     "output_type": "stream",
     "text": [
      "Classes 'tbl_df', 'tbl' and 'data.frame':\t509376 obs. of  5 variables:\n",
      " $ X1         : int  0 1 2 3 4 5 6 7 8 9 ...\n",
      " $ series_id  : int  103088 103088 103088 103088 103088 103088 103088 103088 103088 103088 ...\n",
      " $ timestamp  : POSIXct, format: \"2014-12-24 00:00:00\" \"2014-12-24 01:00:00\" ...\n",
      " $ consumption: num  101842 105878 91619 94474 96977 ...\n",
      " $ temperature: num  NA NA NA NA NA NA NA NA NA NA ...\n",
      " - attr(*, \"spec\")=List of 2\n",
      "  ..$ cols   :List of 5\n",
      "  .. ..$ X1         : list()\n",
      "  .. .. ..- attr(*, \"class\")= chr  \"collector_integer\" \"collector\"\n",
      "  .. ..$ series_id  : list()\n",
      "  .. .. ..- attr(*, \"class\")= chr  \"collector_integer\" \"collector\"\n",
      "  .. ..$ timestamp  :List of 1\n",
      "  .. .. ..$ format: chr \"\"\n",
      "  .. .. ..- attr(*, \"class\")= chr  \"collector_datetime\" \"collector\"\n",
      "  .. ..$ consumption: list()\n",
      "  .. .. ..- attr(*, \"class\")= chr  \"collector_double\" \"collector\"\n",
      "  .. ..$ temperature: list()\n",
      "  .. .. ..- attr(*, \"class\")= chr  \"collector_double\" \"collector\"\n",
      "  ..$ default: list()\n",
      "  .. ..- attr(*, \"class\")= chr  \"collector_guess\" \"collector\"\n",
      "  ..- attr(*, \"class\")= chr \"col_spec\"\n"
     ]
    }
   ],
   "source": [
    "str(train)  # 509376 obs. of  5 variables"
   ]
  },
  {
   "cell_type": "code",
   "execution_count": 6,
   "metadata": {
    "ExecuteTime": {
     "end_time": "2018-12-09T04:29:17.663186Z",
     "start_time": "2018-12-09T04:29:17.326Z"
    }
   },
   "outputs": [
    {
     "name": "stdout",
     "output_type": "stream",
     "text": [
      "Classes 'tbl_df', 'tbl' and 'data.frame':\t111984 obs. of  5 variables:\n",
      " $ X1         : int  0 1 2 3 4 5 6 7 8 9 ...\n",
      " $ series_id  : int  102781 102781 102781 102781 102781 102781 102781 102781 102781 102781 ...\n",
      " $ timestamp  : POSIXct, format: \"2013-02-27 00:00:00\" \"2013-02-27 01:00:00\" ...\n",
      " $ consumption: num  15296 15163 15022 15370 15303 ...\n",
      " $ temperature: num  17 18.2 18 17 16.9 ...\n",
      " - attr(*, \"spec\")=List of 2\n",
      "  ..$ cols   :List of 5\n",
      "  .. ..$ X1         : list()\n",
      "  .. .. ..- attr(*, \"class\")= chr  \"collector_integer\" \"collector\"\n",
      "  .. ..$ series_id  : list()\n",
      "  .. .. ..- attr(*, \"class\")= chr  \"collector_integer\" \"collector\"\n",
      "  .. ..$ timestamp  :List of 1\n",
      "  .. .. ..$ format: chr \"\"\n",
      "  .. .. ..- attr(*, \"class\")= chr  \"collector_datetime\" \"collector\"\n",
      "  .. ..$ consumption: list()\n",
      "  .. .. ..- attr(*, \"class\")= chr  \"collector_double\" \"collector\"\n",
      "  .. ..$ temperature: list()\n",
      "  .. .. ..- attr(*, \"class\")= chr  \"collector_double\" \"collector\"\n",
      "  ..$ default: list()\n",
      "  .. ..- attr(*, \"class\")= chr  \"collector_guess\" \"collector\"\n",
      "  ..- attr(*, \"class\")= chr \"col_spec\"\n"
     ]
    }
   ],
   "source": [
    "str(test)   # 111984 obs. of  5 variables"
   ]
  },
  {
   "cell_type": "markdown",
   "metadata": {},
   "source": [
    "**Summary of the data**"
   ]
  },
  {
   "cell_type": "markdown",
   "metadata": {},
   "source": [
    "**Summary** of the datasets give us an idea about the descriptive statistics of the data."
   ]
  },
  {
   "cell_type": "code",
   "execution_count": 6,
   "metadata": {
    "ExecuteTime": {
     "end_time": "2018-12-16T09:01:33.144837Z",
     "start_time": "2018-12-16T09:00:12.205Z"
    },
    "scrolled": false
   },
   "outputs": [
    {
     "data": {
      "text/plain": [
       "   series_id        surface          base_temperature   monday_is_day_off \n",
       " Min.   :100003   Length:1383        Length:1383        Length:1383       \n",
       " 1st Qu.:100947   Class :character   Class :character   Class :character  \n",
       " Median :101881   Mode  :character   Mode  :character   Mode  :character  \n",
       " Mean   :101855                                                           \n",
       " 3rd Qu.:102756                                                           \n",
       " Max.   :103634                                                           \n",
       " tuesday_is_day_off wednesday_is_day_off thursday_is_day_off friday_is_day_off \n",
       " Length:1383        Length:1383          Length:1383         Length:1383       \n",
       " Class :character   Class :character     Class :character    Class :character  \n",
       " Mode  :character   Mode  :character     Mode  :character    Mode  :character  \n",
       "                                                                               \n",
       "                                                                               \n",
       "                                                                               \n",
       " saturday_is_day_off sunday_is_day_off \n",
       " Length:1383         Length:1383       \n",
       " Class :character    Class :character  \n",
       " Mode  :character    Mode  :character  \n",
       "                                       \n",
       "                                       \n",
       "                                       "
      ]
     },
     "metadata": {},
     "output_type": "display_data"
    }
   ],
   "source": [
    "summary(meta)"
   ]
  },
  {
   "cell_type": "code",
   "execution_count": 7,
   "metadata": {
    "ExecuteTime": {
     "end_time": "2018-12-16T09:04:21.514467Z",
     "start_time": "2018-12-16T09:00:14.189Z"
    }
   },
   "outputs": [
    {
     "data": {
      "text/plain": [
       "       X1           series_id        timestamp                  \n",
       " Min.   :     0   Min.   :100003   Min.   :2013-01-02 00:00:00  \n",
       " 1st Qu.:127344   1st Qu.:100998   1st Qu.:2016-02-01 15:00:00  \n",
       " Median :254688   Median :101885   Median :2017-01-05 23:30:00  \n",
       " Mean   :254688   Mean   :101851   Mean   :2016-09-10 15:19:52  \n",
       " 3rd Qu.:382031   3rd Qu.:102697   3rd Qu.:2017-07-02 22:00:00  \n",
       " Max.   :509375   Max.   :103634   Max.   :2017-12-29 23:00:00  \n",
       "                                                                \n",
       "  consumption       temperature    \n",
       " Min.   :      0   Min.   :-13.47  \n",
       " 1st Qu.:  15421   1st Qu.:  8.45  \n",
       " Median :  49862   Median : 15.16  \n",
       " Mean   : 107624   Mean   : 15.19  \n",
       " 3rd Qu.: 135166   3rd Qu.: 21.80  \n",
       " Max.   :2085110   Max.   : 44.35  \n",
       "                   NA's   :228689  "
      ]
     },
     "metadata": {},
     "output_type": "display_data"
    }
   ],
   "source": [
    "summary(train)"
   ]
  },
  {
   "cell_type": "code",
   "execution_count": 8,
   "metadata": {
    "ExecuteTime": {
     "end_time": "2018-12-16T09:07:36.631627Z",
     "start_time": "2018-12-16T09:00:17.151Z"
    },
    "scrolled": true
   },
   "outputs": [
    {
     "data": {
      "text/plain": [
       "       X1           series_id        timestamp                  \n",
       " Min.   :     0   Min.   :100004   Min.   :2012-06-01 00:00:00  \n",
       " 1st Qu.: 27996   1st Qu.:100876   1st Qu.:2015-05-13 19:45:00  \n",
       " Median : 55992   Median :101940   Median :2016-05-17 13:00:00  \n",
       " Mean   : 55992   Mean   :101881   Mean   :2016-03-15 21:15:26  \n",
       " 3rd Qu.: 83987   3rd Qu.:102920   3rd Qu.:2017-03-19 17:15:00  \n",
       " Max.   :111983   Max.   :103629   Max.   :2017-12-03 23:00:00  \n",
       "                                                                \n",
       "  consumption       temperature    \n",
       " Min.   :      0   Min.   :-12.21  \n",
       " 1st Qu.:  14171   1st Qu.: 10.75  \n",
       " Median :  38691   Median : 16.00  \n",
       " Mean   : 158589   Mean   : 15.98  \n",
       " 3rd Qu.: 106759   3rd Qu.: 21.60  \n",
       " Max.   :5366167   Max.   : 42.00  \n",
       "                   NA's   :44916   "
      ]
     },
     "metadata": {},
     "output_type": "display_data"
    }
   ],
   "source": [
    "summary(test)"
   ]
  },
  {
   "cell_type": "markdown",
   "metadata": {},
   "source": [
    "**Observations**: From the above it is evident, that:\n",
    "* there are lots of missing values in the temperature column,\n",
    "* values in the surface column contain categorical data that need to be converted to columns\n",
    "* there are 0 values in the consumption column that need to be replaced with some other values,\n",
    "* a majority of the values in consumption column are outliers"
   ]
  },
  {
   "cell_type": "code",
   "execution_count": 9,
   "metadata": {
    "ExecuteTime": {
     "end_time": "2018-12-16T09:10:56.752074Z",
     "start_time": "2018-12-16T09:00:22.723Z"
    }
   },
   "outputs": [
    {
     "data": {
      "text/html": [
       "<table>\n",
       "<thead><tr><th scope=col>series_id</th><th scope=col>surface</th><th scope=col>base_temperature</th><th scope=col>monday_is_day_off</th><th scope=col>tuesday_is_day_off</th><th scope=col>wednesday_is_day_off</th><th scope=col>thursday_is_day_off</th><th scope=col>friday_is_day_off</th><th scope=col>saturday_is_day_off</th><th scope=col>sunday_is_day_off</th></tr></thead>\n",
       "<tbody>\n",
       "\t<tr><td>100003 </td><td>x-large</td><td>low    </td><td>False  </td><td>False  </td><td>False  </td><td>False  </td><td>False  </td><td>True   </td><td>True   </td></tr>\n",
       "\t<tr><td>100004 </td><td>x-large</td><td>low    </td><td>False  </td><td>False  </td><td>False  </td><td>False  </td><td>False  </td><td>True   </td><td>True   </td></tr>\n",
       "\t<tr><td>100006 </td><td>x-small</td><td>low    </td><td>False  </td><td>False  </td><td>False  </td><td>False  </td><td>False  </td><td>True   </td><td>True   </td></tr>\n",
       "\t<tr><td>100008 </td><td>x-small</td><td>low    </td><td>False  </td><td>False  </td><td>False  </td><td>False  </td><td>False  </td><td>True   </td><td>True   </td></tr>\n",
       "\t<tr><td>100010 </td><td>x-small</td><td>low    </td><td>False  </td><td>False  </td><td>False  </td><td>False  </td><td>False  </td><td>True   </td><td>True   </td></tr>\n",
       "\t<tr><td>100012 </td><td>x-large</td><td>low    </td><td>False  </td><td>False  </td><td>False  </td><td>False  </td><td>False  </td><td>True   </td><td>True   </td></tr>\n",
       "</tbody>\n",
       "</table>\n"
      ],
      "text/latex": [
       "\\begin{tabular}{r|llllllllll}\n",
       " series\\_id & surface & base\\_temperature & monday\\_is\\_day\\_off & tuesday\\_is\\_day\\_off & wednesday\\_is\\_day\\_off & thursday\\_is\\_day\\_off & friday\\_is\\_day\\_off & saturday\\_is\\_day\\_off & sunday\\_is\\_day\\_off\\\\\n",
       "\\hline\n",
       "\t 100003  & x-large & low     & False   & False   & False   & False   & False   & True    & True   \\\\\n",
       "\t 100004  & x-large & low     & False   & False   & False   & False   & False   & True    & True   \\\\\n",
       "\t 100006  & x-small & low     & False   & False   & False   & False   & False   & True    & True   \\\\\n",
       "\t 100008  & x-small & low     & False   & False   & False   & False   & False   & True    & True   \\\\\n",
       "\t 100010  & x-small & low     & False   & False   & False   & False   & False   & True    & True   \\\\\n",
       "\t 100012  & x-large & low     & False   & False   & False   & False   & False   & True    & True   \\\\\n",
       "\\end{tabular}\n"
      ],
      "text/markdown": [
       "\n",
       "series_id | surface | base_temperature | monday_is_day_off | tuesday_is_day_off | wednesday_is_day_off | thursday_is_day_off | friday_is_day_off | saturday_is_day_off | sunday_is_day_off | \n",
       "|---|---|---|---|---|---|\n",
       "| 100003  | x-large | low     | False   | False   | False   | False   | False   | True    | True    | \n",
       "| 100004  | x-large | low     | False   | False   | False   | False   | False   | True    | True    | \n",
       "| 100006  | x-small | low     | False   | False   | False   | False   | False   | True    | True    | \n",
       "| 100008  | x-small | low     | False   | False   | False   | False   | False   | True    | True    | \n",
       "| 100010  | x-small | low     | False   | False   | False   | False   | False   | True    | True    | \n",
       "| 100012  | x-large | low     | False   | False   | False   | False   | False   | True    | True    | \n",
       "\n",
       "\n"
      ],
      "text/plain": [
       "  series_id surface base_temperature monday_is_day_off tuesday_is_day_off\n",
       "1 100003    x-large low              False             False             \n",
       "2 100004    x-large low              False             False             \n",
       "3 100006    x-small low              False             False             \n",
       "4 100008    x-small low              False             False             \n",
       "5 100010    x-small low              False             False             \n",
       "6 100012    x-large low              False             False             \n",
       "  wednesday_is_day_off thursday_is_day_off friday_is_day_off\n",
       "1 False                False               False            \n",
       "2 False                False               False            \n",
       "3 False                False               False            \n",
       "4 False                False               False            \n",
       "5 False                False               False            \n",
       "6 False                False               False            \n",
       "  saturday_is_day_off sunday_is_day_off\n",
       "1 True                True             \n",
       "2 True                True             \n",
       "3 True                True             \n",
       "4 True                True             \n",
       "5 True                True             \n",
       "6 True                True             "
      ]
     },
     "metadata": {},
     "output_type": "display_data"
    }
   ],
   "source": [
    "# 3 take a look at the top rows of the data\n",
    "head(meta)"
   ]
  },
  {
   "cell_type": "code",
   "execution_count": 10,
   "metadata": {
    "ExecuteTime": {
     "end_time": "2018-12-16T09:14:18.378606Z",
     "start_time": "2018-12-16T09:00:24.883Z"
    }
   },
   "outputs": [
    {
     "data": {
      "text/html": [
       "<table>\n",
       "<thead><tr><th scope=col>X1</th><th scope=col>series_id</th><th scope=col>timestamp</th><th scope=col>consumption</th><th scope=col>temperature</th></tr></thead>\n",
       "<tbody>\n",
       "\t<tr><td>0                  </td><td>103088             </td><td>2014-12-24 00:00:00</td><td>101842.23          </td><td>NA                 </td></tr>\n",
       "\t<tr><td>1                  </td><td>103088             </td><td>2014-12-24 01:00:00</td><td>105878.05          </td><td>NA                 </td></tr>\n",
       "\t<tr><td>2                  </td><td>103088             </td><td>2014-12-24 02:00:00</td><td> 91619.11          </td><td>NA                 </td></tr>\n",
       "\t<tr><td>3                  </td><td>103088             </td><td>2014-12-24 03:00:00</td><td> 94473.71          </td><td>NA                 </td></tr>\n",
       "\t<tr><td>4                  </td><td>103088             </td><td>2014-12-24 04:00:00</td><td> 96976.76          </td><td>NA                 </td></tr>\n",
       "\t<tr><td>5                  </td><td>103088             </td><td>2014-12-24 05:00:00</td><td>109154.51          </td><td>NA                 </td></tr>\n",
       "</tbody>\n",
       "</table>\n"
      ],
      "text/latex": [
       "\\begin{tabular}{r|lllll}\n",
       " X1 & series\\_id & timestamp & consumption & temperature\\\\\n",
       "\\hline\n",
       "\t 0                   & 103088              & 2014-12-24 00:00:00 & 101842.23           & NA                 \\\\\n",
       "\t 1                   & 103088              & 2014-12-24 01:00:00 & 105878.05           & NA                 \\\\\n",
       "\t 2                   & 103088              & 2014-12-24 02:00:00 &  91619.11           & NA                 \\\\\n",
       "\t 3                   & 103088              & 2014-12-24 03:00:00 &  94473.71           & NA                 \\\\\n",
       "\t 4                   & 103088              & 2014-12-24 04:00:00 &  96976.76           & NA                 \\\\\n",
       "\t 5                   & 103088              & 2014-12-24 05:00:00 & 109154.51           & NA                 \\\\\n",
       "\\end{tabular}\n"
      ],
      "text/markdown": [
       "\n",
       "X1 | series_id | timestamp | consumption | temperature | \n",
       "|---|---|---|---|---|---|\n",
       "| 0                   | 103088              | 2014-12-24 00:00:00 | 101842.23           | NA                  | \n",
       "| 1                   | 103088              | 2014-12-24 01:00:00 | 105878.05           | NA                  | \n",
       "| 2                   | 103088              | 2014-12-24 02:00:00 |  91619.11           | NA                  | \n",
       "| 3                   | 103088              | 2014-12-24 03:00:00 |  94473.71           | NA                  | \n",
       "| 4                   | 103088              | 2014-12-24 04:00:00 |  96976.76           | NA                  | \n",
       "| 5                   | 103088              | 2014-12-24 05:00:00 | 109154.51           | NA                  | \n",
       "\n",
       "\n"
      ],
      "text/plain": [
       "  X1 series_id timestamp           consumption temperature\n",
       "1 0  103088    2014-12-24 00:00:00 101842.23   NA         \n",
       "2 1  103088    2014-12-24 01:00:00 105878.05   NA         \n",
       "3 2  103088    2014-12-24 02:00:00  91619.11   NA         \n",
       "4 3  103088    2014-12-24 03:00:00  94473.71   NA         \n",
       "5 4  103088    2014-12-24 04:00:00  96976.76   NA         \n",
       "6 5  103088    2014-12-24 05:00:00 109154.51   NA         "
      ]
     },
     "metadata": {},
     "output_type": "display_data"
    }
   ],
   "source": [
    "head(train)"
   ]
  },
  {
   "cell_type": "code",
   "execution_count": 11,
   "metadata": {
    "ExecuteTime": {
     "end_time": "2018-12-16T09:17:33.618773Z",
     "start_time": "2018-12-16T09:00:28.272Z"
    }
   },
   "outputs": [
    {
     "data": {
      "text/html": [
       "<table>\n",
       "<thead><tr><th scope=col>X1</th><th scope=col>series_id</th><th scope=col>timestamp</th><th scope=col>consumption</th><th scope=col>temperature</th></tr></thead>\n",
       "<tbody>\n",
       "\t<tr><td>0                  </td><td>102781             </td><td>2013-02-27 00:00:00</td><td>15295.74           </td><td>17.00              </td></tr>\n",
       "\t<tr><td>1                  </td><td>102781             </td><td>2013-02-27 01:00:00</td><td>15163.21           </td><td>18.25              </td></tr>\n",
       "\t<tr><td>2                  </td><td>102781             </td><td>2013-02-27 02:00:00</td><td>15022.26           </td><td>18.00              </td></tr>\n",
       "\t<tr><td>3                  </td><td>102781             </td><td>2013-02-27 03:00:00</td><td>15370.42           </td><td>17.00              </td></tr>\n",
       "\t<tr><td>4                  </td><td>102781             </td><td>2013-02-27 04:00:00</td><td>15303.10           </td><td>16.90              </td></tr>\n",
       "\t<tr><td>5                  </td><td>102781             </td><td>2013-02-27 05:00:00</td><td>14553.15           </td><td>17.00              </td></tr>\n",
       "</tbody>\n",
       "</table>\n"
      ],
      "text/latex": [
       "\\begin{tabular}{r|lllll}\n",
       " X1 & series\\_id & timestamp & consumption & temperature\\\\\n",
       "\\hline\n",
       "\t 0                   & 102781              & 2013-02-27 00:00:00 & 15295.74            & 17.00              \\\\\n",
       "\t 1                   & 102781              & 2013-02-27 01:00:00 & 15163.21            & 18.25              \\\\\n",
       "\t 2                   & 102781              & 2013-02-27 02:00:00 & 15022.26            & 18.00              \\\\\n",
       "\t 3                   & 102781              & 2013-02-27 03:00:00 & 15370.42            & 17.00              \\\\\n",
       "\t 4                   & 102781              & 2013-02-27 04:00:00 & 15303.10            & 16.90              \\\\\n",
       "\t 5                   & 102781              & 2013-02-27 05:00:00 & 14553.15            & 17.00              \\\\\n",
       "\\end{tabular}\n"
      ],
      "text/markdown": [
       "\n",
       "X1 | series_id | timestamp | consumption | temperature | \n",
       "|---|---|---|---|---|---|\n",
       "| 0                   | 102781              | 2013-02-27 00:00:00 | 15295.74            | 17.00               | \n",
       "| 1                   | 102781              | 2013-02-27 01:00:00 | 15163.21            | 18.25               | \n",
       "| 2                   | 102781              | 2013-02-27 02:00:00 | 15022.26            | 18.00               | \n",
       "| 3                   | 102781              | 2013-02-27 03:00:00 | 15370.42            | 17.00               | \n",
       "| 4                   | 102781              | 2013-02-27 04:00:00 | 15303.10            | 16.90               | \n",
       "| 5                   | 102781              | 2013-02-27 05:00:00 | 14553.15            | 17.00               | \n",
       "\n",
       "\n"
      ],
      "text/plain": [
       "  X1 series_id timestamp           consumption temperature\n",
       "1 0  102781    2013-02-27 00:00:00 15295.74    17.00      \n",
       "2 1  102781    2013-02-27 01:00:00 15163.21    18.25      \n",
       "3 2  102781    2013-02-27 02:00:00 15022.26    18.00      \n",
       "4 3  102781    2013-02-27 03:00:00 15370.42    17.00      \n",
       "5 4  102781    2013-02-27 04:00:00 15303.10    16.90      \n",
       "6 5  102781    2013-02-27 05:00:00 14553.15    17.00      "
      ]
     },
     "metadata": {},
     "output_type": "display_data"
    }
   ],
   "source": [
    "head(test)"
   ]
  },
  {
   "cell_type": "code",
   "execution_count": 21,
   "metadata": {
    "ExecuteTime": {
     "end_time": "2018-12-16T07:03:36.567670Z",
     "start_time": "2018-12-16T07:01:39.262Z"
    },
    "scrolled": true
   },
   "outputs": [
    {
     "data": {
      "text/plain": [
       "$surface\n",
       "\n",
       "   large   medium    small  x-large  x-small xx-large xx-small \n",
       "     112      172      146      382      314      108      149 \n",
       "\n",
       "$base_temperature\n",
       "\n",
       "high  low \n",
       "  35 1348 \n",
       "\n",
       "$monday_is_day_off\n",
       "\n",
       "False  True \n",
       " 1379     4 \n",
       "\n",
       "$tuesday_is_day_off\n",
       "\n",
       "False  True \n",
       " 1379     4 \n",
       "\n",
       "$wednesday_is_day_off\n",
       "\n",
       "False  True \n",
       " 1376     7 \n",
       "\n",
       "$thursday_is_day_off\n",
       "\n",
       "False  True \n",
       " 1376     7 \n",
       "\n",
       "$friday_is_day_off\n",
       "\n",
       "False  True \n",
       " 1366    17 \n",
       "\n",
       "$saturday_is_day_off\n",
       "\n",
       "False  True \n",
       "  125  1258 \n",
       "\n",
       "$sunday_is_day_off\n",
       "\n",
       "False  True \n",
       "  109  1274 \n"
      ]
     },
     "metadata": {},
     "output_type": "display_data"
    }
   ],
   "source": [
    "sapply(meta[-1], table)  # Taking a look at the distribution of the values "
   ]
  },
  {
   "cell_type": "markdown",
   "metadata": {},
   "source": [
    "**Observations**: The consumption is more on weekdays as compared to weekends."
   ]
  },
  {
   "cell_type": "code",
   "execution_count": 17,
   "metadata": {
    "ExecuteTime": {
     "end_time": "2018-12-16T06:56:22.222827Z",
     "start_time": "2018-12-16T06:51:38.874Z"
    }
   },
   "outputs": [
    {
     "data": {
      "text/html": [
       "625"
      ],
      "text/latex": [
       "625"
      ],
      "text/markdown": [
       "625"
      ],
      "text/plain": [
       "[1] 625"
      ]
     },
     "metadata": {},
     "output_type": "display_data"
    }
   ],
   "source": [
    "# Checking differnce between series_id that are present in meta but not in train or test\n",
    "metaButNotTrain_sid <- as.vector(setdiff(meta$series_id, train$series_id))     \n",
    "length(metaButNotTrain_sid)  # 625 values"
   ]
  },
  {
   "cell_type": "code",
   "execution_count": 18,
   "metadata": {
    "ExecuteTime": {
     "end_time": "2018-12-16T06:58:20.700603Z",
     "start_time": "2018-12-16T06:51:40.682Z"
    }
   },
   "outputs": [
    {
     "data": {
      "text/html": [
       "758"
      ],
      "text/latex": [
       "758"
      ],
      "text/markdown": [
       "758"
      ],
      "text/plain": [
       "[1] 758"
      ]
     },
     "metadata": {},
     "output_type": "display_data"
    }
   ],
   "source": [
    "metaButNotTest_sid <- as.vector(setdiff(meta$series_id, test$series_id))\n",
    "length(metaButNotTest_sid)   # 758 values"
   ]
  },
  {
   "cell_type": "code",
   "execution_count": 19,
   "metadata": {
    "ExecuteTime": {
     "end_time": "2018-12-16T07:00:20.601461Z",
     "start_time": "2018-12-16T06:51:45.219Z"
    },
    "scrolled": true
   },
   "outputs": [
    {
     "data": {
      "text/html": [
       "<dl class=dl-horizontal>\n",
       "\t<dt>temperature</dt>\n",
       "\t\t<dd>44.8959118607865</dd>\n",
       "\t<dt>X1</dt>\n",
       "\t\t<dd>0</dd>\n",
       "\t<dt>series_id</dt>\n",
       "\t\t<dd>0</dd>\n",
       "\t<dt>timestamp</dt>\n",
       "\t\t<dd>0</dd>\n",
       "\t<dt>consumption</dt>\n",
       "\t\t<dd>0</dd>\n",
       "</dl>\n"
      ],
      "text/latex": [
       "\\begin{description*}\n",
       "\\item[temperature] 44.8959118607865\n",
       "\\item[X1] 0\n",
       "\\item[series\\textbackslash{}\\_id] 0\n",
       "\\item[timestamp] 0\n",
       "\\item[consumption] 0\n",
       "\\end{description*}\n"
      ],
      "text/markdown": [
       "temperature\n",
       ":   44.8959118607865X1\n",
       ":   0series_id\n",
       ":   0timestamp\n",
       ":   0consumption\n",
       ":   0\n",
       "\n"
      ],
      "text/plain": [
       "temperature          X1   series_id   timestamp consumption \n",
       "   44.89591     0.00000     0.00000     0.00000     0.00000 "
      ]
     },
     "metadata": {},
     "output_type": "display_data"
    },
    {
     "data": {
      "text/html": [
       "<dl class=dl-horizontal>\n",
       "\t<dt>temperature</dt>\n",
       "\t\t<dd>40.1093013287613</dd>\n",
       "\t<dt>X1</dt>\n",
       "\t\t<dd>0</dd>\n",
       "\t<dt>series_id</dt>\n",
       "\t\t<dd>0</dd>\n",
       "\t<dt>timestamp</dt>\n",
       "\t\t<dd>0</dd>\n",
       "\t<dt>consumption</dt>\n",
       "\t\t<dd>0</dd>\n",
       "</dl>\n"
      ],
      "text/latex": [
       "\\begin{description*}\n",
       "\\item[temperature] 40.1093013287613\n",
       "\\item[X1] 0\n",
       "\\item[series\\textbackslash{}\\_id] 0\n",
       "\\item[timestamp] 0\n",
       "\\item[consumption] 0\n",
       "\\end{description*}\n"
      ],
      "text/markdown": [
       "temperature\n",
       ":   40.1093013287613X1\n",
       ":   0series_id\n",
       ":   0timestamp\n",
       ":   0consumption\n",
       ":   0\n",
       "\n"
      ],
      "text/plain": [
       "temperature          X1   series_id   timestamp consumption \n",
       "    40.1093      0.0000      0.0000      0.0000      0.0000 "
      ]
     },
     "metadata": {},
     "output_type": "display_data"
    }
   ],
   "source": [
    "# Missing value \n",
    "sort(colMeans(is.na(train)*100), decreasing = TRUE)  # 45% missing values of temperature\n",
    "sort(colMeans(is.na(test)*100), decreasing = TRUE)   # 40% missing values of temperature"
   ]
  },
  {
   "cell_type": "code",
   "execution_count": 26,
   "metadata": {
    "ExecuteTime": {
     "end_time": "2018-12-16T07:33:22.105907Z",
     "start_time": "2018-12-16T07:31:47.493Z"
    }
   },
   "outputs": [
    {
     "name": "stdout",
     "output_type": "stream",
     "text": [
      "[1] \"Minimum Temperature: -13.4666666666667\"\n",
      "[1] \"Maximum Temperature: 44.35\"\n"
     ]
    }
   ],
   "source": [
    "# Looking at range of temperature and consumption in train data, eliminating NA/ Inf\n",
    "print(paste0(\"Minimum Temperature: \", min(train$temperature, na.rm = TRUE)))\n",
    "print(paste0(\"Maximum Temperature: \", max(train$temperature, na.rm = TRUE)))"
   ]
  },
  {
   "cell_type": "code",
   "execution_count": 27,
   "metadata": {
    "ExecuteTime": {
     "end_time": "2018-12-16T07:35:09.097027Z",
     "start_time": "2018-12-16T07:33:29.122Z"
    },
    "scrolled": true
   },
   "outputs": [
    {
     "name": "stdout",
     "output_type": "stream",
     "text": [
      "[1] \"Minimum Consumption: 0\"\n",
      "[1] \"Maximum Consumption: 2085109.45353471\"\n"
     ]
    }
   ],
   "source": [
    "print(paste0(\"Minimum Consumption: \", min(train$consumption, na.rm = TRUE)))\n",
    "print(paste0(\"Maximum Consumption: \", max(train$consumption, na.rm = TRUE)))"
   ]
  },
  {
   "cell_type": "markdown",
   "metadata": {},
   "source": [
    "**Observations**: \n",
    "1. There are lot of missing values in the temperature columns and we will drop this colmn in subsequent steps.\n",
    "2. There are 0 values in the consumption column which can impact out modeling so we will impute them later"
   ]
  },
  {
   "cell_type": "code",
   "execution_count": 28,
   "metadata": {
    "ExecuteTime": {
     "end_time": "2018-12-16T07:37:14.685210Z",
     "start_time": "2018-12-16T07:35:12.528Z"
    }
   },
   "outputs": [
    {
     "data": {
      "text/plain": [
       "                    X1       series_id timestamp             consumption   \n",
       "2013-01-02 00:00:00 \"270144\" \"103298\"  \"2013-01-02 00:00:00\" \"1.358024e+05\"\n",
       "2013-01-02 00:00:00 \"287616\" \"102642\"  \"2013-01-02 00:00:00\" \"2.884351e+04\"\n",
       "2013-01-02 01:00:00 \"270145\" \"103298\"  \"2013-01-02 01:00:00\" \"1.355866e+05\"\n",
       "2013-01-02 01:00:00 \"287617\" \"102642\"  \"2013-01-02 01:00:00\" \"2.644524e+04\"\n",
       "2013-01-02 02:00:00 \"270146\" \"103298\"  \"2013-01-02 02:00:00\" \"1.413574e+05\"\n",
       "2013-01-02 02:00:00 \"287618\" \"102642\"  \"2013-01-02 02:00:00\" \"2.867972e+04\"\n",
       "                    temperature    \n",
       "2013-01-02 00:00:00 \"-3.766667e+00\"\n",
       "2013-01-02 00:00:00 \"-3.766667e+00\"\n",
       "2013-01-02 01:00:00 \"-3.833333e+00\"\n",
       "2013-01-02 01:00:00 \"-3.833333e+00\"\n",
       "2013-01-02 02:00:00 \"-3.733333e+00\"\n",
       "2013-01-02 02:00:00 \"-3.733333e+00\""
      ]
     },
     "metadata": {},
     "output_type": "display_data"
    }
   ],
   "source": [
    "train_trial_xts <- xts(x = train, order.by = train$timestamp, frequency = 24)\n",
    "head(train_trial_xts)"
   ]
  },
  {
   "cell_type": "markdown",
   "metadata": {
    "ExecuteTime": {
     "end_time": "2018-12-16T07:56:23.533920Z",
     "start_time": "2018-12-16T07:56:23.414Z"
    }
   },
   "source": [
    "**Tidying and transformaing training, meta and testing data**"
   ]
  },
  {
   "cell_type": "markdown",
   "metadata": {},
   "source": [
    "In the subsequent steps, we will transform the data so that it suitable for our modelling. The steps include:\n",
    "* Converting dummy variables\n",
    "* Renameing columns for consistency\n",
    "* Converting numerical data to categorical data\n",
    "* Converting boolean values to 0s and 1s\n",
    "* Dropping columns that are not required\n",
    "* Joining dataframes meta with train and test"
   ]
  },
  {
   "cell_type": "code",
   "execution_count": 12,
   "metadata": {
    "ExecuteTime": {
     "end_time": "2018-12-16T09:21:14.088383Z",
     "start_time": "2018-12-16T09:18:27.093Z"
    }
   },
   "outputs": [],
   "source": [
    "##### tidying meta data #####\n",
    "# 1. Converting dummy variable for surface\n",
    "library(magrittr)\n",
    "meta %<>% \n",
    "  mutate(v = 1, sf = surface) %>% \n",
    "  spread(sf, v, fill = 0)"
   ]
  },
  {
   "cell_type": "code",
   "execution_count": 13,
   "metadata": {
    "ExecuteTime": {
     "end_time": "2018-12-16T09:25:09.022821Z",
     "start_time": "2018-12-16T09:21:30.155Z"
    }
   },
   "outputs": [],
   "source": [
    "# 2. Renaming dummy columns from surface\n",
    "meta %<>% rename(is_large = large)        # large\n",
    "meta %<>% rename(is_medium = medium)      # medium\n",
    "meta %<>% rename(is_Xlarge = 'x-large')   # xlarge\n",
    "meta %<>% rename(is_Xsmall = 'x-small')   # x small\n",
    "meta %<>% rename(is_XXlarge = 'xx-large') # xx-large\n",
    "meta %<>% rename(is_XXsmall = 'xx-small') # xx-small\n",
    "meta %<>% rename(is_small = small)        # small\n",
    "meta %<>% rename(is_baseTemperatureHigh = base_temperature) # base Temperature"
   ]
  },
  {
   "cell_type": "code",
   "execution_count": 14,
   "metadata": {
    "ExecuteTime": {
     "end_time": "2018-12-16T09:28:48.710386Z",
     "start_time": "2018-12-16T09:25:11.665Z"
    }
   },
   "outputs": [],
   "source": [
    "# 3. change high = 1 and low = 0 in base_temperature\n",
    "meta$is_baseTemperatureHigh <- if_else(meta$is_baseTemperatureHigh == 'high', 1, 0) "
   ]
  },
  {
   "cell_type": "code",
   "execution_count": 15,
   "metadata": {
    "ExecuteTime": {
     "end_time": "2018-12-16T09:32:24.446726Z",
     "start_time": "2018-12-16T09:28:56.910Z"
    }
   },
   "outputs": [],
   "source": [
    "# 4. Converting False to 0 and True to 1 in days columns\n",
    "meta %<>% mutate_at(vars(ends_with('_is_day_off')),\n",
    "                                 funs(case_when(\n",
    "                                  . =='False' ~ 0,\n",
    "                                  . == 'True'~ 1)))"
   ]
  },
  {
   "cell_type": "code",
   "execution_count": 16,
   "metadata": {
    "ExecuteTime": {
     "end_time": "2018-12-16T09:35:27.916219Z",
     "start_time": "2018-12-16T09:33:17.357Z"
    }
   },
   "outputs": [],
   "source": [
    "# 5. Converting the newly created dummy var datatype from numeric to factor \n",
    "# except the series_id column:\n",
    "meta %<>% mutate_at(vars(-series_id), funs(as.factor(.)))\n",
    "\n",
    "# Caution: will convert all the column to factor\n",
    "#### meta %<>% mutate_if(is.numeric, as.factor) "
   ]
  },
  {
   "cell_type": "code",
   "execution_count": 17,
   "metadata": {
    "ExecuteTime": {
     "end_time": "2018-12-16T09:39:09.400888Z",
     "start_time": "2018-12-16T09:33:21.304Z"
    }
   },
   "outputs": [],
   "source": [
    "# 6. Dropping column surface\n",
    "meta$surface <- NULL "
   ]
  },
  {
   "cell_type": "code",
   "execution_count": null,
   "metadata": {},
   "outputs": [],
   "source": [
    "# Save the objects to  file\n",
    "saveRDS(meta, file = \"./processed/meta.rds\")\n",
    "# Restore the object\n",
    "openRDS(file = \"./processed/meta.rds\")\n",
    "##############################################################"
   ]
  },
  {
   "cell_type": "code",
   "execution_count": 18,
   "metadata": {
    "ExecuteTime": {
     "end_time": "2018-12-16T09:42:31.429443Z",
     "start_time": "2018-12-16T09:41:01.401Z"
    }
   },
   "outputs": [],
   "source": [
    "##### tidying train data #####\n",
    "# Column(s) to add\n",
    "# Extracting hour from timestamp and storing it as factor\n",
    "train$hour <- as.factor(hour(train$timestamp))\n",
    "test$hour <- as.factor(hour(test$timestamp))"
   ]
  },
  {
   "cell_type": "code",
   "execution_count": 19,
   "metadata": {
    "ExecuteTime": {
     "end_time": "2018-12-16T09:45:45.513544Z",
     "start_time": "2018-12-16T09:41:08.357Z"
    }
   },
   "outputs": [
    {
     "data": {
      "text/html": [
       "<table>\n",
       "<thead><tr><th scope=col>series_id</th><th scope=col>is_baseTemperatureHigh</th><th scope=col>monday_is_day_off</th><th scope=col>tuesday_is_day_off</th><th scope=col>wednesday_is_day_off</th><th scope=col>thursday_is_day_off</th><th scope=col>friday_is_day_off</th><th scope=col>saturday_is_day_off</th><th scope=col>sunday_is_day_off</th><th scope=col>is_large</th><th scope=col>is_medium</th><th scope=col>is_small</th><th scope=col>is_Xlarge</th><th scope=col>is_Xsmall</th><th scope=col>is_XXlarge</th><th scope=col>is_XXsmall</th></tr></thead>\n",
       "<tbody>\n",
       "\t<tr><td>100003</td><td>0     </td><td>0     </td><td>0     </td><td>0     </td><td>0     </td><td>0     </td><td>1     </td><td>1     </td><td>0     </td><td>0     </td><td>0     </td><td>1     </td><td>0     </td><td>0     </td><td>0     </td></tr>\n",
       "\t<tr><td>100004</td><td>0     </td><td>0     </td><td>0     </td><td>0     </td><td>0     </td><td>0     </td><td>1     </td><td>1     </td><td>0     </td><td>0     </td><td>0     </td><td>1     </td><td>0     </td><td>0     </td><td>0     </td></tr>\n",
       "\t<tr><td>100006</td><td>0     </td><td>0     </td><td>0     </td><td>0     </td><td>0     </td><td>0     </td><td>1     </td><td>1     </td><td>0     </td><td>0     </td><td>0     </td><td>0     </td><td>1     </td><td>0     </td><td>0     </td></tr>\n",
       "\t<tr><td>100008</td><td>0     </td><td>0     </td><td>0     </td><td>0     </td><td>0     </td><td>0     </td><td>1     </td><td>1     </td><td>0     </td><td>0     </td><td>0     </td><td>0     </td><td>1     </td><td>0     </td><td>0     </td></tr>\n",
       "\t<tr><td>100010</td><td>0     </td><td>0     </td><td>0     </td><td>0     </td><td>0     </td><td>0     </td><td>1     </td><td>1     </td><td>0     </td><td>0     </td><td>0     </td><td>0     </td><td>1     </td><td>0     </td><td>0     </td></tr>\n",
       "\t<tr><td>100012</td><td>0     </td><td>0     </td><td>0     </td><td>0     </td><td>0     </td><td>0     </td><td>1     </td><td>1     </td><td>0     </td><td>0     </td><td>0     </td><td>1     </td><td>0     </td><td>0     </td><td>0     </td></tr>\n",
       "</tbody>\n",
       "</table>\n"
      ],
      "text/latex": [
       "\\begin{tabular}{r|llllllllllllllll}\n",
       " series\\_id & is\\_baseTemperatureHigh & monday\\_is\\_day\\_off & tuesday\\_is\\_day\\_off & wednesday\\_is\\_day\\_off & thursday\\_is\\_day\\_off & friday\\_is\\_day\\_off & saturday\\_is\\_day\\_off & sunday\\_is\\_day\\_off & is\\_large & is\\_medium & is\\_small & is\\_Xlarge & is\\_Xsmall & is\\_XXlarge & is\\_XXsmall\\\\\n",
       "\\hline\n",
       "\t 100003 & 0      & 0      & 0      & 0      & 0      & 0      & 1      & 1      & 0      & 0      & 0      & 1      & 0      & 0      & 0     \\\\\n",
       "\t 100004 & 0      & 0      & 0      & 0      & 0      & 0      & 1      & 1      & 0      & 0      & 0      & 1      & 0      & 0      & 0     \\\\\n",
       "\t 100006 & 0      & 0      & 0      & 0      & 0      & 0      & 1      & 1      & 0      & 0      & 0      & 0      & 1      & 0      & 0     \\\\\n",
       "\t 100008 & 0      & 0      & 0      & 0      & 0      & 0      & 1      & 1      & 0      & 0      & 0      & 0      & 1      & 0      & 0     \\\\\n",
       "\t 100010 & 0      & 0      & 0      & 0      & 0      & 0      & 1      & 1      & 0      & 0      & 0      & 0      & 1      & 0      & 0     \\\\\n",
       "\t 100012 & 0      & 0      & 0      & 0      & 0      & 0      & 1      & 1      & 0      & 0      & 0      & 1      & 0      & 0      & 0     \\\\\n",
       "\\end{tabular}\n"
      ],
      "text/markdown": [
       "\n",
       "series_id | is_baseTemperatureHigh | monday_is_day_off | tuesday_is_day_off | wednesday_is_day_off | thursday_is_day_off | friday_is_day_off | saturday_is_day_off | sunday_is_day_off | is_large | is_medium | is_small | is_Xlarge | is_Xsmall | is_XXlarge | is_XXsmall | \n",
       "|---|---|---|---|---|---|\n",
       "| 100003 | 0      | 0      | 0      | 0      | 0      | 0      | 1      | 1      | 0      | 0      | 0      | 1      | 0      | 0      | 0      | \n",
       "| 100004 | 0      | 0      | 0      | 0      | 0      | 0      | 1      | 1      | 0      | 0      | 0      | 1      | 0      | 0      | 0      | \n",
       "| 100006 | 0      | 0      | 0      | 0      | 0      | 0      | 1      | 1      | 0      | 0      | 0      | 0      | 1      | 0      | 0      | \n",
       "| 100008 | 0      | 0      | 0      | 0      | 0      | 0      | 1      | 1      | 0      | 0      | 0      | 0      | 1      | 0      | 0      | \n",
       "| 100010 | 0      | 0      | 0      | 0      | 0      | 0      | 1      | 1      | 0      | 0      | 0      | 0      | 1      | 0      | 0      | \n",
       "| 100012 | 0      | 0      | 0      | 0      | 0      | 0      | 1      | 1      | 0      | 0      | 0      | 1      | 0      | 0      | 0      | \n",
       "\n",
       "\n"
      ],
      "text/plain": [
       "  series_id is_baseTemperatureHigh monday_is_day_off tuesday_is_day_off\n",
       "1 100003    0                      0                 0                 \n",
       "2 100004    0                      0                 0                 \n",
       "3 100006    0                      0                 0                 \n",
       "4 100008    0                      0                 0                 \n",
       "5 100010    0                      0                 0                 \n",
       "6 100012    0                      0                 0                 \n",
       "  wednesday_is_day_off thursday_is_day_off friday_is_day_off\n",
       "1 0                    0                   0                \n",
       "2 0                    0                   0                \n",
       "3 0                    0                   0                \n",
       "4 0                    0                   0                \n",
       "5 0                    0                   0                \n",
       "6 0                    0                   0                \n",
       "  saturday_is_day_off sunday_is_day_off is_large is_medium is_small is_Xlarge\n",
       "1 1                   1                 0        0         0        1        \n",
       "2 1                   1                 0        0         0        1        \n",
       "3 1                   1                 0        0         0        0        \n",
       "4 1                   1                 0        0         0        0        \n",
       "5 1                   1                 0        0         0        0        \n",
       "6 1                   1                 0        0         0        1        \n",
       "  is_Xsmall is_XXlarge is_XXsmall\n",
       "1 0         0          0         \n",
       "2 0         0          0         \n",
       "3 1         0          0         \n",
       "4 1         0          0         \n",
       "5 1         0          0         \n",
       "6 0         0          0         "
      ]
     },
     "metadata": {},
     "output_type": "display_data"
    }
   ],
   "source": [
    "head(meta)"
   ]
  },
  {
   "cell_type": "code",
   "execution_count": 20,
   "metadata": {
    "ExecuteTime": {
     "end_time": "2018-12-16T09:45:45.652552Z",
     "start_time": "2018-12-16T09:41:08.364Z"
    }
   },
   "outputs": [
    {
     "data": {
      "text/html": [
       "<table>\n",
       "<thead><tr><th scope=col>X1</th><th scope=col>series_id</th><th scope=col>timestamp</th><th scope=col>consumption</th><th scope=col>temperature</th><th scope=col>hour</th></tr></thead>\n",
       "<tbody>\n",
       "\t<tr><td>0                  </td><td>103088             </td><td>2014-12-24 00:00:00</td><td>101842.23          </td><td>NA                 </td><td>0                  </td></tr>\n",
       "\t<tr><td>1                  </td><td>103088             </td><td>2014-12-24 01:00:00</td><td>105878.05          </td><td>NA                 </td><td>1                  </td></tr>\n",
       "\t<tr><td>2                  </td><td>103088             </td><td>2014-12-24 02:00:00</td><td> 91619.11          </td><td>NA                 </td><td>2                  </td></tr>\n",
       "\t<tr><td>3                  </td><td>103088             </td><td>2014-12-24 03:00:00</td><td> 94473.71          </td><td>NA                 </td><td>3                  </td></tr>\n",
       "\t<tr><td>4                  </td><td>103088             </td><td>2014-12-24 04:00:00</td><td> 96976.76          </td><td>NA                 </td><td>4                  </td></tr>\n",
       "\t<tr><td>5                  </td><td>103088             </td><td>2014-12-24 05:00:00</td><td>109154.51          </td><td>NA                 </td><td>5                  </td></tr>\n",
       "</tbody>\n",
       "</table>\n"
      ],
      "text/latex": [
       "\\begin{tabular}{r|llllll}\n",
       " X1 & series\\_id & timestamp & consumption & temperature & hour\\\\\n",
       "\\hline\n",
       "\t 0                   & 103088              & 2014-12-24 00:00:00 & 101842.23           & NA                  & 0                  \\\\\n",
       "\t 1                   & 103088              & 2014-12-24 01:00:00 & 105878.05           & NA                  & 1                  \\\\\n",
       "\t 2                   & 103088              & 2014-12-24 02:00:00 &  91619.11           & NA                  & 2                  \\\\\n",
       "\t 3                   & 103088              & 2014-12-24 03:00:00 &  94473.71           & NA                  & 3                  \\\\\n",
       "\t 4                   & 103088              & 2014-12-24 04:00:00 &  96976.76           & NA                  & 4                  \\\\\n",
       "\t 5                   & 103088              & 2014-12-24 05:00:00 & 109154.51           & NA                  & 5                  \\\\\n",
       "\\end{tabular}\n"
      ],
      "text/markdown": [
       "\n",
       "X1 | series_id | timestamp | consumption | temperature | hour | \n",
       "|---|---|---|---|---|---|\n",
       "| 0                   | 103088              | 2014-12-24 00:00:00 | 101842.23           | NA                  | 0                   | \n",
       "| 1                   | 103088              | 2014-12-24 01:00:00 | 105878.05           | NA                  | 1                   | \n",
       "| 2                   | 103088              | 2014-12-24 02:00:00 |  91619.11           | NA                  | 2                   | \n",
       "| 3                   | 103088              | 2014-12-24 03:00:00 |  94473.71           | NA                  | 3                   | \n",
       "| 4                   | 103088              | 2014-12-24 04:00:00 |  96976.76           | NA                  | 4                   | \n",
       "| 5                   | 103088              | 2014-12-24 05:00:00 | 109154.51           | NA                  | 5                   | \n",
       "\n",
       "\n"
      ],
      "text/plain": [
       "  X1 series_id timestamp           consumption temperature hour\n",
       "1 0  103088    2014-12-24 00:00:00 101842.23   NA          0   \n",
       "2 1  103088    2014-12-24 01:00:00 105878.05   NA          1   \n",
       "3 2  103088    2014-12-24 02:00:00  91619.11   NA          2   \n",
       "4 3  103088    2014-12-24 03:00:00  94473.71   NA          3   \n",
       "5 4  103088    2014-12-24 04:00:00  96976.76   NA          4   \n",
       "6 5  103088    2014-12-24 05:00:00 109154.51   NA          5   "
      ]
     },
     "metadata": {},
     "output_type": "display_data"
    }
   ],
   "source": [
    "head(train)"
   ]
  },
  {
   "cell_type": "code",
   "execution_count": 21,
   "metadata": {
    "ExecuteTime": {
     "end_time": "2018-12-16T09:45:45.752558Z",
     "start_time": "2018-12-16T09:41:08.373Z"
    }
   },
   "outputs": [
    {
     "data": {
      "text/html": [
       "<table>\n",
       "<thead><tr><th scope=col>X1</th><th scope=col>series_id</th><th scope=col>timestamp</th><th scope=col>consumption</th><th scope=col>temperature</th><th scope=col>hour</th></tr></thead>\n",
       "<tbody>\n",
       "\t<tr><td>0                  </td><td>102781             </td><td>2013-02-27 00:00:00</td><td>15295.74           </td><td>17.00              </td><td>0                  </td></tr>\n",
       "\t<tr><td>1                  </td><td>102781             </td><td>2013-02-27 01:00:00</td><td>15163.21           </td><td>18.25              </td><td>1                  </td></tr>\n",
       "\t<tr><td>2                  </td><td>102781             </td><td>2013-02-27 02:00:00</td><td>15022.26           </td><td>18.00              </td><td>2                  </td></tr>\n",
       "\t<tr><td>3                  </td><td>102781             </td><td>2013-02-27 03:00:00</td><td>15370.42           </td><td>17.00              </td><td>3                  </td></tr>\n",
       "\t<tr><td>4                  </td><td>102781             </td><td>2013-02-27 04:00:00</td><td>15303.10           </td><td>16.90              </td><td>4                  </td></tr>\n",
       "\t<tr><td>5                  </td><td>102781             </td><td>2013-02-27 05:00:00</td><td>14553.15           </td><td>17.00              </td><td>5                  </td></tr>\n",
       "</tbody>\n",
       "</table>\n"
      ],
      "text/latex": [
       "\\begin{tabular}{r|llllll}\n",
       " X1 & series\\_id & timestamp & consumption & temperature & hour\\\\\n",
       "\\hline\n",
       "\t 0                   & 102781              & 2013-02-27 00:00:00 & 15295.74            & 17.00               & 0                  \\\\\n",
       "\t 1                   & 102781              & 2013-02-27 01:00:00 & 15163.21            & 18.25               & 1                  \\\\\n",
       "\t 2                   & 102781              & 2013-02-27 02:00:00 & 15022.26            & 18.00               & 2                  \\\\\n",
       "\t 3                   & 102781              & 2013-02-27 03:00:00 & 15370.42            & 17.00               & 3                  \\\\\n",
       "\t 4                   & 102781              & 2013-02-27 04:00:00 & 15303.10            & 16.90               & 4                  \\\\\n",
       "\t 5                   & 102781              & 2013-02-27 05:00:00 & 14553.15            & 17.00               & 5                  \\\\\n",
       "\\end{tabular}\n"
      ],
      "text/markdown": [
       "\n",
       "X1 | series_id | timestamp | consumption | temperature | hour | \n",
       "|---|---|---|---|---|---|\n",
       "| 0                   | 102781              | 2013-02-27 00:00:00 | 15295.74            | 17.00               | 0                   | \n",
       "| 1                   | 102781              | 2013-02-27 01:00:00 | 15163.21            | 18.25               | 1                   | \n",
       "| 2                   | 102781              | 2013-02-27 02:00:00 | 15022.26            | 18.00               | 2                   | \n",
       "| 3                   | 102781              | 2013-02-27 03:00:00 | 15370.42            | 17.00               | 3                   | \n",
       "| 4                   | 102781              | 2013-02-27 04:00:00 | 15303.10            | 16.90               | 4                   | \n",
       "| 5                   | 102781              | 2013-02-27 05:00:00 | 14553.15            | 17.00               | 5                   | \n",
       "\n",
       "\n"
      ],
      "text/plain": [
       "  X1 series_id timestamp           consumption temperature hour\n",
       "1 0  102781    2013-02-27 00:00:00 15295.74    17.00       0   \n",
       "2 1  102781    2013-02-27 01:00:00 15163.21    18.25       1   \n",
       "3 2  102781    2013-02-27 02:00:00 15022.26    18.00       2   \n",
       "4 3  102781    2013-02-27 03:00:00 15370.42    17.00       3   \n",
       "5 4  102781    2013-02-27 04:00:00 15303.10    16.90       4   \n",
       "6 5  102781    2013-02-27 05:00:00 14553.15    17.00       5   "
      ]
     },
     "metadata": {},
     "output_type": "display_data"
    }
   ],
   "source": [
    "head(test)"
   ]
  },
  {
   "cell_type": "code",
   "execution_count": 22,
   "metadata": {
    "ExecuteTime": {
     "end_time": "2018-12-16T09:53:59.412793Z",
     "start_time": "2018-12-16T09:46:02.411Z"
    }
   },
   "outputs": [
    {
     "data": {
      "text/plain": [
       "   Min. 1st Qu.  Median    Mean 3rd Qu.    Max. \n",
       "      0   15421   49862  107624  135166 2085110 "
      ]
     },
     "metadata": {},
     "output_type": "display_data"
    }
   ],
   "source": [
    "# Imputing implicit missing values in consumption by taking median of consu in\n",
    "# xsmall and xxsmall \n",
    "# Check summary\n",
    "summary(train$consumption)"
   ]
  },
  {
   "cell_type": "code",
   "execution_count": 23,
   "metadata": {
    "ExecuteTime": {
     "end_time": "2018-12-16T09:57:42.209537Z",
     "start_time": "2018-12-16T09:46:04.900Z"
    }
   },
   "outputs": [
    {
     "data": {
      "text/plain": [
       "   Min. 1st Qu.  Median    Mean 3rd Qu.    Max. \n",
       "      0   14171   38691  158589  106759 5366167 "
      ]
     },
     "metadata": {},
     "output_type": "display_data"
    }
   ],
   "source": [
    "summary(test$consumption)"
   ]
  },
  {
   "cell_type": "code",
   "execution_count": 24,
   "metadata": {
    "ExecuteTime": {
     "end_time": "2018-12-16T10:01:19.710977Z",
     "start_time": "2018-12-16T09:46:06.328Z"
    }
   },
   "outputs": [
    {
     "data": {
      "text/html": [
       "<table>\n",
       "<thead><tr><th scope=col>consumption == 0</th><th scope=col>n</th></tr></thead>\n",
       "<tbody>\n",
       "\t<tr><td>FALSE </td><td>509333</td></tr>\n",
       "\t<tr><td> TRUE </td><td>    43</td></tr>\n",
       "</tbody>\n",
       "</table>\n"
      ],
      "text/latex": [
       "\\begin{tabular}{r|ll}\n",
       " consumption == 0 & n\\\\\n",
       "\\hline\n",
       "\t FALSE  & 509333\\\\\n",
       "\t  TRUE  &     43\\\\\n",
       "\\end{tabular}\n"
      ],
      "text/markdown": [
       "\n",
       "consumption == 0 | n | \n",
       "|---|---|\n",
       "| FALSE  | 509333 | \n",
       "|  TRUE  |     43 | \n",
       "\n",
       "\n"
      ],
      "text/plain": [
       "  consumption == 0 n     \n",
       "1 FALSE            509333\n",
       "2  TRUE                43"
      ]
     },
     "metadata": {},
     "output_type": "display_data"
    }
   ],
   "source": [
    "# Count of values that have consumption 0:\n",
    "train %>% count(consumption == 0)"
   ]
  },
  {
   "cell_type": "code",
   "execution_count": 25,
   "metadata": {
    "ExecuteTime": {
     "end_time": "2018-12-16T10:04:11.036776Z",
     "start_time": "2018-12-16T09:46:07.387Z"
    }
   },
   "outputs": [
    {
     "data": {
      "text/html": [
       "<table>\n",
       "<thead><tr><th scope=col>consumption == 0</th><th scope=col>n</th></tr></thead>\n",
       "<tbody>\n",
       "\t<tr><td>FALSE </td><td>111980</td></tr>\n",
       "\t<tr><td> TRUE </td><td>     4</td></tr>\n",
       "</tbody>\n",
       "</table>\n"
      ],
      "text/latex": [
       "\\begin{tabular}{r|ll}\n",
       " consumption == 0 & n\\\\\n",
       "\\hline\n",
       "\t FALSE  & 111980\\\\\n",
       "\t  TRUE  &      4\\\\\n",
       "\\end{tabular}\n"
      ],
      "text/markdown": [
       "\n",
       "consumption == 0 | n | \n",
       "|---|---|\n",
       "| FALSE  | 111980 | \n",
       "|  TRUE  |      4 | \n",
       "\n",
       "\n"
      ],
      "text/plain": [
       "  consumption == 0 n     \n",
       "1 FALSE            111980\n",
       "2  TRUE                 4"
      ]
     },
     "metadata": {},
     "output_type": "display_data"
    }
   ],
   "source": [
    "test %>% count(consumption == 0)"
   ]
  },
  {
   "cell_type": "code",
   "execution_count": 26,
   "metadata": {
    "ExecuteTime": {
     "end_time": "2018-12-16T10:06:34.406977Z",
     "start_time": "2018-12-16T09:46:08.709Z"
    }
   },
   "outputs": [],
   "source": [
    "#Converting 0 value of consumption to NA:\n",
    "train %<>% mutate(consumption = na_if(consumption,0))\n",
    "test %<>% mutate(consumption = na_if(consumption,0)) "
   ]
  },
  {
   "cell_type": "code",
   "execution_count": 27,
   "metadata": {
    "ExecuteTime": {
     "end_time": "2018-12-16T10:09:09.390841Z",
     "start_time": "2018-12-16T09:46:12.289Z"
    }
   },
   "outputs": [
    {
     "data": {
      "text/html": [
       "43"
      ],
      "text/latex": [
       "43"
      ],
      "text/markdown": [
       "43"
      ],
      "text/plain": [
       "[1] 43"
      ]
     },
     "metadata": {},
     "output_type": "display_data"
    }
   ],
   "source": [
    "#Number of missing values before implicit conversion:\n",
    "sum(is.na(train$consumption))"
   ]
  },
  {
   "cell_type": "code",
   "execution_count": 28,
   "metadata": {
    "ExecuteTime": {
     "end_time": "2018-12-16T10:11:44.568717Z",
     "start_time": "2018-12-16T09:46:13.376Z"
    }
   },
   "outputs": [
    {
     "data": {
      "text/html": [
       "4"
      ],
      "text/latex": [
       "4"
      ],
      "text/markdown": [
       "4"
      ],
      "text/plain": [
       "[1] 4"
      ]
     },
     "metadata": {},
     "output_type": "display_data"
    }
   ],
   "source": [
    "sum(is.na(test$consumption))"
   ]
  },
  {
   "cell_type": "code",
   "execution_count": 29,
   "metadata": {
    "ExecuteTime": {
     "end_time": "2018-12-16T10:14:02.646614Z",
     "start_time": "2018-12-16T10:11:50.877Z"
    }
   },
   "outputs": [],
   "source": [
    "# Replacing NA with median values \n",
    "train %<>% mutate_at(vars(consumption), funs(ifelse(is.na(.),median(., na.rm = TRUE),.)))"
   ]
  },
  {
   "cell_type": "code",
   "execution_count": 30,
   "metadata": {
    "ExecuteTime": {
     "end_time": "2018-12-16T10:16:12.889064Z",
     "start_time": "2018-12-16T10:14:16.054Z"
    }
   },
   "outputs": [],
   "source": [
    "test %<>% mutate_at(vars(consumption), funs(ifelse(is.na(.), median(., na.rm = TRUE), .)))"
   ]
  },
  {
   "cell_type": "code",
   "execution_count": 31,
   "metadata": {
    "ExecuteTime": {
     "end_time": "2018-12-16T10:18:32.051023Z",
     "start_time": "2018-12-16T10:16:30.155Z"
    }
   },
   "outputs": [
    {
     "data": {
      "text/plain": [
       "     Min.   1st Qu.    Median      Mean   3rd Qu.      Max. \n",
       "      6.8   15433.6   49864.9  107628.0  135166.1 2085109.5 "
      ]
     },
     "metadata": {},
     "output_type": "display_data"
    }
   ],
   "source": [
    "# Check summary\n",
    "summary(train$consumption)"
   ]
  },
  {
   "cell_type": "code",
   "execution_count": 32,
   "metadata": {
    "ExecuteTime": {
     "end_time": "2018-12-16T10:20:46.037687Z",
     "start_time": "2018-12-16T10:18:39.076Z"
    }
   },
   "outputs": [
    {
     "data": {
      "text/plain": [
       "   Min. 1st Qu.  Median    Mean 3rd Qu.    Max. \n",
       "     13   14180   38693  158591  106759 5366167 "
      ]
     },
     "metadata": {},
     "output_type": "display_data"
    }
   ],
   "source": [
    "summary(test$consumption)"
   ]
  },
  {
   "cell_type": "code",
   "execution_count": 33,
   "metadata": {
    "ExecuteTime": {
     "end_time": "2018-12-16T10:23:31.459149Z",
     "start_time": "2018-12-16T10:21:23.964Z"
    }
   },
   "outputs": [],
   "source": [
    "# Column(s) to drop\n",
    "train$X1 <- NULL\n",
    "test$X1 <- NULL"
   ]
  },
  {
   "cell_type": "code",
   "execution_count": 34,
   "metadata": {
    "ExecuteTime": {
     "end_time": "2018-12-16T10:25:41.961613Z",
     "start_time": "2018-12-16T10:25:36.113Z"
    }
   },
   "outputs": [],
   "source": [
    "train$temperature <- NULL\n",
    "test$temperature <- NULL"
   ]
  },
  {
   "cell_type": "code",
   "execution_count": 35,
   "metadata": {
    "ExecuteTime": {
     "end_time": "2018-12-16T10:27:49.533910Z",
     "start_time": "2018-12-16T10:25:39.848Z"
    }
   },
   "outputs": [
    {
     "data": {
      "text/html": [
       "<ol class=list-inline>\n",
       "\t<li>'series_id'</li>\n",
       "\t<li>'timestamp'</li>\n",
       "\t<li>'consumption'</li>\n",
       "\t<li>'hour'</li>\n",
       "</ol>\n"
      ],
      "text/latex": [
       "\\begin{enumerate*}\n",
       "\\item 'series\\_id'\n",
       "\\item 'timestamp'\n",
       "\\item 'consumption'\n",
       "\\item 'hour'\n",
       "\\end{enumerate*}\n"
      ],
      "text/markdown": [
       "1. 'series_id'\n",
       "2. 'timestamp'\n",
       "3. 'consumption'\n",
       "4. 'hour'\n",
       "\n",
       "\n"
      ],
      "text/plain": [
       "[1] \"series_id\"   \"timestamp\"   \"consumption\" \"hour\"       "
      ]
     },
     "metadata": {},
     "output_type": "display_data"
    }
   ],
   "source": [
    "# Names of columns of train data\n",
    "colnames(train)"
   ]
  },
  {
   "cell_type": "code",
   "execution_count": 36,
   "metadata": {
    "ExecuteTime": {
     "end_time": "2018-12-16T10:30:09.707927Z",
     "start_time": "2018-12-16T10:25:41.466Z"
    }
   },
   "outputs": [
    {
     "data": {
      "text/html": [
       "<ol class=list-inline>\n",
       "\t<li>'series_id'</li>\n",
       "\t<li>'timestamp'</li>\n",
       "\t<li>'consumption'</li>\n",
       "\t<li>'hour'</li>\n",
       "</ol>\n"
      ],
      "text/latex": [
       "\\begin{enumerate*}\n",
       "\\item 'series\\_id'\n",
       "\\item 'timestamp'\n",
       "\\item 'consumption'\n",
       "\\item 'hour'\n",
       "\\end{enumerate*}\n"
      ],
      "text/markdown": [
       "1. 'series_id'\n",
       "2. 'timestamp'\n",
       "3. 'consumption'\n",
       "4. 'hour'\n",
       "\n",
       "\n"
      ],
      "text/plain": [
       "[1] \"series_id\"   \"timestamp\"   \"consumption\" \"hour\"       "
      ]
     },
     "metadata": {},
     "output_type": "display_data"
    }
   ],
   "source": [
    "colnames(test)"
   ]
  },
  {
   "cell_type": "code",
   "execution_count": null,
   "metadata": {},
   "outputs": [],
   "source": [
    "######### Save the data so far #############################\n",
    "# Save an object to a file\n",
    "saveRDS(train, file = \"./processed/train.rds\")\n",
    "# Restore the object\n",
    "train <- openRDS(file = \"./processed/train.rds\")"
   ]
  },
  {
   "cell_type": "code",
   "execution_count": null,
   "metadata": {},
   "outputs": [],
   "source": [
    "saveRDS(test, file = \"./processed/test.rds\")\n",
    "# Restore the object\n",
    "test <- openRDS(file = \"./processed/test.rds\")"
   ]
  },
  {
   "cell_type": "markdown",
   "metadata": {},
   "source": [
    "**Joining data**"
   ]
  },
  {
   "cell_type": "code",
   "execution_count": 40,
   "metadata": {
    "ExecuteTime": {
     "end_time": "2018-12-16T10:35:26.633054Z",
     "start_time": "2018-12-16T10:32:54.562Z"
    }
   },
   "outputs": [
    {
     "name": "stderr",
     "output_type": "stream",
     "text": [
      "Joining, by = \"series_id\"\n"
     ]
    }
   ],
   "source": [
    "# left join between train and meta\n",
    "train_meta_lj <- left_join(x= train, y = meta, suffix = c(\".x\", \".m1\"))"
   ]
  },
  {
   "cell_type": "code",
   "execution_count": 41,
   "metadata": {
    "ExecuteTime": {
     "end_time": "2018-12-16T10:41:51.058042Z",
     "start_time": "2018-12-16T10:35:29.599Z"
    }
   },
   "outputs": [
    {
     "data": {
      "text/html": [
       "<table>\n",
       "<thead><tr><th scope=col>series_id</th><th scope=col>timestamp</th><th scope=col>consumption</th><th scope=col>hour</th><th scope=col>is_baseTemperatureHigh</th><th scope=col>monday_is_day_off</th><th scope=col>tuesday_is_day_off</th><th scope=col>wednesday_is_day_off</th><th scope=col>thursday_is_day_off</th><th scope=col>friday_is_day_off</th><th scope=col>saturday_is_day_off</th><th scope=col>sunday_is_day_off</th><th scope=col>is_large</th><th scope=col>is_medium</th><th scope=col>is_small</th><th scope=col>is_Xlarge</th><th scope=col>is_Xsmall</th><th scope=col>is_XXlarge</th><th scope=col>is_XXsmall</th></tr></thead>\n",
       "<tbody>\n",
       "\t<tr><td>103088             </td><td>2014-12-24 00:00:00</td><td>101842.23          </td><td>0                  </td><td>0                  </td><td>0                  </td><td>0                  </td><td>0                  </td><td>0                  </td><td>0                  </td><td>1                  </td><td>1                  </td><td>0                  </td><td>0                  </td><td>0                  </td><td>0                  </td><td>1                  </td><td>0                  </td><td>0                  </td></tr>\n",
       "\t<tr><td>103088             </td><td>2014-12-24 01:00:00</td><td>105878.05          </td><td>1                  </td><td>0                  </td><td>0                  </td><td>0                  </td><td>0                  </td><td>0                  </td><td>0                  </td><td>1                  </td><td>1                  </td><td>0                  </td><td>0                  </td><td>0                  </td><td>0                  </td><td>1                  </td><td>0                  </td><td>0                  </td></tr>\n",
       "\t<tr><td>103088             </td><td>2014-12-24 02:00:00</td><td> 91619.11          </td><td>2                  </td><td>0                  </td><td>0                  </td><td>0                  </td><td>0                  </td><td>0                  </td><td>0                  </td><td>1                  </td><td>1                  </td><td>0                  </td><td>0                  </td><td>0                  </td><td>0                  </td><td>1                  </td><td>0                  </td><td>0                  </td></tr>\n",
       "\t<tr><td>103088             </td><td>2014-12-24 03:00:00</td><td> 94473.71          </td><td>3                  </td><td>0                  </td><td>0                  </td><td>0                  </td><td>0                  </td><td>0                  </td><td>0                  </td><td>1                  </td><td>1                  </td><td>0                  </td><td>0                  </td><td>0                  </td><td>0                  </td><td>1                  </td><td>0                  </td><td>0                  </td></tr>\n",
       "\t<tr><td>103088             </td><td>2014-12-24 04:00:00</td><td> 96976.76          </td><td>4                  </td><td>0                  </td><td>0                  </td><td>0                  </td><td>0                  </td><td>0                  </td><td>0                  </td><td>1                  </td><td>1                  </td><td>0                  </td><td>0                  </td><td>0                  </td><td>0                  </td><td>1                  </td><td>0                  </td><td>0                  </td></tr>\n",
       "\t<tr><td>103088             </td><td>2014-12-24 05:00:00</td><td>109154.51          </td><td>5                  </td><td>0                  </td><td>0                  </td><td>0                  </td><td>0                  </td><td>0                  </td><td>0                  </td><td>1                  </td><td>1                  </td><td>0                  </td><td>0                  </td><td>0                  </td><td>0                  </td><td>1                  </td><td>0                  </td><td>0                  </td></tr>\n",
       "</tbody>\n",
       "</table>\n"
      ],
      "text/latex": [
       "\\begin{tabular}{r|lllllllllllllllllll}\n",
       " series\\_id & timestamp & consumption & hour & is\\_baseTemperatureHigh & monday\\_is\\_day\\_off & tuesday\\_is\\_day\\_off & wednesday\\_is\\_day\\_off & thursday\\_is\\_day\\_off & friday\\_is\\_day\\_off & saturday\\_is\\_day\\_off & sunday\\_is\\_day\\_off & is\\_large & is\\_medium & is\\_small & is\\_Xlarge & is\\_Xsmall & is\\_XXlarge & is\\_XXsmall\\\\\n",
       "\\hline\n",
       "\t 103088              & 2014-12-24 00:00:00 & 101842.23           & 0                   & 0                   & 0                   & 0                   & 0                   & 0                   & 0                   & 1                   & 1                   & 0                   & 0                   & 0                   & 0                   & 1                   & 0                   & 0                  \\\\\n",
       "\t 103088              & 2014-12-24 01:00:00 & 105878.05           & 1                   & 0                   & 0                   & 0                   & 0                   & 0                   & 0                   & 1                   & 1                   & 0                   & 0                   & 0                   & 0                   & 1                   & 0                   & 0                  \\\\\n",
       "\t 103088              & 2014-12-24 02:00:00 &  91619.11           & 2                   & 0                   & 0                   & 0                   & 0                   & 0                   & 0                   & 1                   & 1                   & 0                   & 0                   & 0                   & 0                   & 1                   & 0                   & 0                  \\\\\n",
       "\t 103088              & 2014-12-24 03:00:00 &  94473.71           & 3                   & 0                   & 0                   & 0                   & 0                   & 0                   & 0                   & 1                   & 1                   & 0                   & 0                   & 0                   & 0                   & 1                   & 0                   & 0                  \\\\\n",
       "\t 103088              & 2014-12-24 04:00:00 &  96976.76           & 4                   & 0                   & 0                   & 0                   & 0                   & 0                   & 0                   & 1                   & 1                   & 0                   & 0                   & 0                   & 0                   & 1                   & 0                   & 0                  \\\\\n",
       "\t 103088              & 2014-12-24 05:00:00 & 109154.51           & 5                   & 0                   & 0                   & 0                   & 0                   & 0                   & 0                   & 1                   & 1                   & 0                   & 0                   & 0                   & 0                   & 1                   & 0                   & 0                  \\\\\n",
       "\\end{tabular}\n"
      ],
      "text/markdown": [
       "\n",
       "series_id | timestamp | consumption | hour | is_baseTemperatureHigh | monday_is_day_off | tuesday_is_day_off | wednesday_is_day_off | thursday_is_day_off | friday_is_day_off | saturday_is_day_off | sunday_is_day_off | is_large | is_medium | is_small | is_Xlarge | is_Xsmall | is_XXlarge | is_XXsmall | \n",
       "|---|---|---|---|---|---|\n",
       "| 103088              | 2014-12-24 00:00:00 | 101842.23           | 0                   | 0                   | 0                   | 0                   | 0                   | 0                   | 0                   | 1                   | 1                   | 0                   | 0                   | 0                   | 0                   | 1                   | 0                   | 0                   | \n",
       "| 103088              | 2014-12-24 01:00:00 | 105878.05           | 1                   | 0                   | 0                   | 0                   | 0                   | 0                   | 0                   | 1                   | 1                   | 0                   | 0                   | 0                   | 0                   | 1                   | 0                   | 0                   | \n",
       "| 103088              | 2014-12-24 02:00:00 |  91619.11           | 2                   | 0                   | 0                   | 0                   | 0                   | 0                   | 0                   | 1                   | 1                   | 0                   | 0                   | 0                   | 0                   | 1                   | 0                   | 0                   | \n",
       "| 103088              | 2014-12-24 03:00:00 |  94473.71           | 3                   | 0                   | 0                   | 0                   | 0                   | 0                   | 0                   | 1                   | 1                   | 0                   | 0                   | 0                   | 0                   | 1                   | 0                   | 0                   | \n",
       "| 103088              | 2014-12-24 04:00:00 |  96976.76           | 4                   | 0                   | 0                   | 0                   | 0                   | 0                   | 0                   | 1                   | 1                   | 0                   | 0                   | 0                   | 0                   | 1                   | 0                   | 0                   | \n",
       "| 103088              | 2014-12-24 05:00:00 | 109154.51           | 5                   | 0                   | 0                   | 0                   | 0                   | 0                   | 0                   | 1                   | 1                   | 0                   | 0                   | 0                   | 0                   | 1                   | 0                   | 0                   | \n",
       "\n",
       "\n"
      ],
      "text/plain": [
       "  series_id timestamp           consumption hour is_baseTemperatureHigh\n",
       "1 103088    2014-12-24 00:00:00 101842.23   0    0                     \n",
       "2 103088    2014-12-24 01:00:00 105878.05   1    0                     \n",
       "3 103088    2014-12-24 02:00:00  91619.11   2    0                     \n",
       "4 103088    2014-12-24 03:00:00  94473.71   3    0                     \n",
       "5 103088    2014-12-24 04:00:00  96976.76   4    0                     \n",
       "6 103088    2014-12-24 05:00:00 109154.51   5    0                     \n",
       "  monday_is_day_off tuesday_is_day_off wednesday_is_day_off thursday_is_day_off\n",
       "1 0                 0                  0                    0                  \n",
       "2 0                 0                  0                    0                  \n",
       "3 0                 0                  0                    0                  \n",
       "4 0                 0                  0                    0                  \n",
       "5 0                 0                  0                    0                  \n",
       "6 0                 0                  0                    0                  \n",
       "  friday_is_day_off saturday_is_day_off sunday_is_day_off is_large is_medium\n",
       "1 0                 1                   1                 0        0        \n",
       "2 0                 1                   1                 0        0        \n",
       "3 0                 1                   1                 0        0        \n",
       "4 0                 1                   1                 0        0        \n",
       "5 0                 1                   1                 0        0        \n",
       "6 0                 1                   1                 0        0        \n",
       "  is_small is_Xlarge is_Xsmall is_XXlarge is_XXsmall\n",
       "1 0        0         1         0          0         \n",
       "2 0        0         1         0          0         \n",
       "3 0        0         1         0          0         \n",
       "4 0        0         1         0          0         \n",
       "5 0        0         1         0          0         \n",
       "6 0        0         1         0          0         "
      ]
     },
     "metadata": {},
     "output_type": "display_data"
    }
   ],
   "source": [
    "head(train_meta_lj)"
   ]
  },
  {
   "cell_type": "code",
   "execution_count": 42,
   "metadata": {
    "ExecuteTime": {
     "end_time": "2018-12-16T10:46:40.190579Z",
     "start_time": "2018-12-16T10:41:58.089Z"
    }
   },
   "outputs": [
    {
     "name": "stderr",
     "output_type": "stream",
     "text": [
      "Joining, by = \"series_id\"\n"
     ]
    }
   ],
   "source": [
    "# left join between test and meta\n",
    "test_meta_lj <- left_join(x= test, y= meta, suffix = c(\".y\", \".m2\"))"
   ]
  },
  {
   "cell_type": "code",
   "execution_count": 43,
   "metadata": {
    "ExecuteTime": {
     "end_time": "2018-12-16T10:52:01.295946Z",
     "start_time": "2018-12-16T10:47:13.277Z"
    }
   },
   "outputs": [
    {
     "data": {
      "text/html": [
       "<table>\n",
       "<thead><tr><th scope=col>series_id</th><th scope=col>timestamp</th><th scope=col>consumption</th><th scope=col>hour</th><th scope=col>is_baseTemperatureHigh</th><th scope=col>monday_is_day_off</th><th scope=col>tuesday_is_day_off</th><th scope=col>wednesday_is_day_off</th><th scope=col>thursday_is_day_off</th><th scope=col>friday_is_day_off</th><th scope=col>saturday_is_day_off</th><th scope=col>sunday_is_day_off</th><th scope=col>is_large</th><th scope=col>is_medium</th><th scope=col>is_small</th><th scope=col>is_Xlarge</th><th scope=col>is_Xsmall</th><th scope=col>is_XXlarge</th><th scope=col>is_XXsmall</th></tr></thead>\n",
       "<tbody>\n",
       "\t<tr><td>102781             </td><td>2013-02-27 00:00:00</td><td>15295.74           </td><td>0                  </td><td>0                  </td><td>0                  </td><td>0                  </td><td>0                  </td><td>0                  </td><td>0                  </td><td>1                  </td><td>1                  </td><td>1                  </td><td>0                  </td><td>0                  </td><td>0                  </td><td>0                  </td><td>0                  </td><td>0                  </td></tr>\n",
       "\t<tr><td>102781             </td><td>2013-02-27 01:00:00</td><td>15163.21           </td><td>1                  </td><td>0                  </td><td>0                  </td><td>0                  </td><td>0                  </td><td>0                  </td><td>0                  </td><td>1                  </td><td>1                  </td><td>1                  </td><td>0                  </td><td>0                  </td><td>0                  </td><td>0                  </td><td>0                  </td><td>0                  </td></tr>\n",
       "\t<tr><td>102781             </td><td>2013-02-27 02:00:00</td><td>15022.26           </td><td>2                  </td><td>0                  </td><td>0                  </td><td>0                  </td><td>0                  </td><td>0                  </td><td>0                  </td><td>1                  </td><td>1                  </td><td>1                  </td><td>0                  </td><td>0                  </td><td>0                  </td><td>0                  </td><td>0                  </td><td>0                  </td></tr>\n",
       "\t<tr><td>102781             </td><td>2013-02-27 03:00:00</td><td>15370.42           </td><td>3                  </td><td>0                  </td><td>0                  </td><td>0                  </td><td>0                  </td><td>0                  </td><td>0                  </td><td>1                  </td><td>1                  </td><td>1                  </td><td>0                  </td><td>0                  </td><td>0                  </td><td>0                  </td><td>0                  </td><td>0                  </td></tr>\n",
       "\t<tr><td>102781             </td><td>2013-02-27 04:00:00</td><td>15303.10           </td><td>4                  </td><td>0                  </td><td>0                  </td><td>0                  </td><td>0                  </td><td>0                  </td><td>0                  </td><td>1                  </td><td>1                  </td><td>1                  </td><td>0                  </td><td>0                  </td><td>0                  </td><td>0                  </td><td>0                  </td><td>0                  </td></tr>\n",
       "\t<tr><td>102781             </td><td>2013-02-27 05:00:00</td><td>14553.15           </td><td>5                  </td><td>0                  </td><td>0                  </td><td>0                  </td><td>0                  </td><td>0                  </td><td>0                  </td><td>1                  </td><td>1                  </td><td>1                  </td><td>0                  </td><td>0                  </td><td>0                  </td><td>0                  </td><td>0                  </td><td>0                  </td></tr>\n",
       "</tbody>\n",
       "</table>\n"
      ],
      "text/latex": [
       "\\begin{tabular}{r|lllllllllllllllllll}\n",
       " series\\_id & timestamp & consumption & hour & is\\_baseTemperatureHigh & monday\\_is\\_day\\_off & tuesday\\_is\\_day\\_off & wednesday\\_is\\_day\\_off & thursday\\_is\\_day\\_off & friday\\_is\\_day\\_off & saturday\\_is\\_day\\_off & sunday\\_is\\_day\\_off & is\\_large & is\\_medium & is\\_small & is\\_Xlarge & is\\_Xsmall & is\\_XXlarge & is\\_XXsmall\\\\\n",
       "\\hline\n",
       "\t 102781              & 2013-02-27 00:00:00 & 15295.74            & 0                   & 0                   & 0                   & 0                   & 0                   & 0                   & 0                   & 1                   & 1                   & 1                   & 0                   & 0                   & 0                   & 0                   & 0                   & 0                  \\\\\n",
       "\t 102781              & 2013-02-27 01:00:00 & 15163.21            & 1                   & 0                   & 0                   & 0                   & 0                   & 0                   & 0                   & 1                   & 1                   & 1                   & 0                   & 0                   & 0                   & 0                   & 0                   & 0                  \\\\\n",
       "\t 102781              & 2013-02-27 02:00:00 & 15022.26            & 2                   & 0                   & 0                   & 0                   & 0                   & 0                   & 0                   & 1                   & 1                   & 1                   & 0                   & 0                   & 0                   & 0                   & 0                   & 0                  \\\\\n",
       "\t 102781              & 2013-02-27 03:00:00 & 15370.42            & 3                   & 0                   & 0                   & 0                   & 0                   & 0                   & 0                   & 1                   & 1                   & 1                   & 0                   & 0                   & 0                   & 0                   & 0                   & 0                  \\\\\n",
       "\t 102781              & 2013-02-27 04:00:00 & 15303.10            & 4                   & 0                   & 0                   & 0                   & 0                   & 0                   & 0                   & 1                   & 1                   & 1                   & 0                   & 0                   & 0                   & 0                   & 0                   & 0                  \\\\\n",
       "\t 102781              & 2013-02-27 05:00:00 & 14553.15            & 5                   & 0                   & 0                   & 0                   & 0                   & 0                   & 0                   & 1                   & 1                   & 1                   & 0                   & 0                   & 0                   & 0                   & 0                   & 0                  \\\\\n",
       "\\end{tabular}\n"
      ],
      "text/markdown": [
       "\n",
       "series_id | timestamp | consumption | hour | is_baseTemperatureHigh | monday_is_day_off | tuesday_is_day_off | wednesday_is_day_off | thursday_is_day_off | friday_is_day_off | saturday_is_day_off | sunday_is_day_off | is_large | is_medium | is_small | is_Xlarge | is_Xsmall | is_XXlarge | is_XXsmall | \n",
       "|---|---|---|---|---|---|\n",
       "| 102781              | 2013-02-27 00:00:00 | 15295.74            | 0                   | 0                   | 0                   | 0                   | 0                   | 0                   | 0                   | 1                   | 1                   | 1                   | 0                   | 0                   | 0                   | 0                   | 0                   | 0                   | \n",
       "| 102781              | 2013-02-27 01:00:00 | 15163.21            | 1                   | 0                   | 0                   | 0                   | 0                   | 0                   | 0                   | 1                   | 1                   | 1                   | 0                   | 0                   | 0                   | 0                   | 0                   | 0                   | \n",
       "| 102781              | 2013-02-27 02:00:00 | 15022.26            | 2                   | 0                   | 0                   | 0                   | 0                   | 0                   | 0                   | 1                   | 1                   | 1                   | 0                   | 0                   | 0                   | 0                   | 0                   | 0                   | \n",
       "| 102781              | 2013-02-27 03:00:00 | 15370.42            | 3                   | 0                   | 0                   | 0                   | 0                   | 0                   | 0                   | 1                   | 1                   | 1                   | 0                   | 0                   | 0                   | 0                   | 0                   | 0                   | \n",
       "| 102781              | 2013-02-27 04:00:00 | 15303.10            | 4                   | 0                   | 0                   | 0                   | 0                   | 0                   | 0                   | 1                   | 1                   | 1                   | 0                   | 0                   | 0                   | 0                   | 0                   | 0                   | \n",
       "| 102781              | 2013-02-27 05:00:00 | 14553.15            | 5                   | 0                   | 0                   | 0                   | 0                   | 0                   | 0                   | 1                   | 1                   | 1                   | 0                   | 0                   | 0                   | 0                   | 0                   | 0                   | \n",
       "\n",
       "\n"
      ],
      "text/plain": [
       "  series_id timestamp           consumption hour is_baseTemperatureHigh\n",
       "1 102781    2013-02-27 00:00:00 15295.74    0    0                     \n",
       "2 102781    2013-02-27 01:00:00 15163.21    1    0                     \n",
       "3 102781    2013-02-27 02:00:00 15022.26    2    0                     \n",
       "4 102781    2013-02-27 03:00:00 15370.42    3    0                     \n",
       "5 102781    2013-02-27 04:00:00 15303.10    4    0                     \n",
       "6 102781    2013-02-27 05:00:00 14553.15    5    0                     \n",
       "  monday_is_day_off tuesday_is_day_off wednesday_is_day_off thursday_is_day_off\n",
       "1 0                 0                  0                    0                  \n",
       "2 0                 0                  0                    0                  \n",
       "3 0                 0                  0                    0                  \n",
       "4 0                 0                  0                    0                  \n",
       "5 0                 0                  0                    0                  \n",
       "6 0                 0                  0                    0                  \n",
       "  friday_is_day_off saturday_is_day_off sunday_is_day_off is_large is_medium\n",
       "1 0                 1                   1                 1        0        \n",
       "2 0                 1                   1                 1        0        \n",
       "3 0                 1                   1                 1        0        \n",
       "4 0                 1                   1                 1        0        \n",
       "5 0                 1                   1                 1        0        \n",
       "6 0                 1                   1                 1        0        \n",
       "  is_small is_Xlarge is_Xsmall is_XXlarge is_XXsmall\n",
       "1 0        0         0         0          0         \n",
       "2 0        0         0         0          0         \n",
       "3 0        0         0         0          0         \n",
       "4 0        0         0         0          0         \n",
       "5 0        0         0         0          0         \n",
       "6 0        0         0         0          0         "
      ]
     },
     "metadata": {},
     "output_type": "display_data"
    }
   ],
   "source": [
    "head(test_meta_lj)"
   ]
  },
  {
   "cell_type": "markdown",
   "metadata": {},
   "source": [
    "**Saving the objects**"
   ]
  },
  {
   "cell_type": "code",
   "execution_count": null,
   "metadata": {},
   "outputs": [],
   "source": [
    "########### Save the joined objects #########################\n",
    "# Save an object to a file\n",
    "saveRDS(train_meta_lj, file = \"./processed/train_meta_lj.rds\")\n",
    "# Restore the object\n",
    "train_meta_lj <- openRDS(file = \"./processed/train_meta_lj.rds\")"
   ]
  },
  {
   "cell_type": "code",
   "execution_count": null,
   "metadata": {},
   "outputs": [],
   "source": [
    "# Save an object to a file\n",
    "saveRDS(test_meta_lj, file = \"./processed/test_meta_lj.rds\")\n",
    "# Restore the object\n",
    "test_meta_lj <- openRDS(file = \"./processed/test_meta_lj.rds\")\n",
    "################################################################"
   ]
  },
  {
   "cell_type": "code",
   "execution_count": null,
   "metadata": {},
   "outputs": [],
   "source": [
    "# Write the objects to a file\n",
    "\n",
    "write.csv(train_meta_lj,'./processed/consumption_train.csv')\n",
    "write.csv(test_meta_lj,'./processed/cold_start_test.csv')"
   ]
  }
 ],
 "metadata": {
  "kernelspec": {
   "display_name": "R",
   "language": "R",
   "name": "ir"
  },
  "language_info": {
   "codemirror_mode": "r",
   "file_extension": ".r",
   "mimetype": "text/x-r-source",
   "name": "R",
   "pygments_lexer": "r",
   "version": "3.4.3"
  },
  "toc": {
   "base_numbering": 1,
   "nav_menu": {},
   "number_sections": true,
   "sideBar": true,
   "skip_h1_title": false,
   "title_cell": "Table of Contents",
   "title_sidebar": "Contents",
   "toc_cell": false,
   "toc_position": {},
   "toc_section_display": true,
   "toc_window_display": false
  },
  "varInspector": {
   "cols": {
    "lenName": 16,
    "lenType": 16,
    "lenVar": 40
   },
   "kernels_config": {
    "python": {
     "delete_cmd_postfix": "",
     "delete_cmd_prefix": "del ",
     "library": "var_list.py",
     "varRefreshCmd": "print(var_dic_list())"
    },
    "r": {
     "delete_cmd_postfix": ") ",
     "delete_cmd_prefix": "rm(",
     "library": "var_list.r",
     "varRefreshCmd": "cat(var_dic_list()) "
    }
   },
   "types_to_exclude": [
    "module",
    "function",
    "builtin_function_or_method",
    "instance",
    "_Feature"
   ],
   "window_display": false
  }
 },
 "nbformat": 4,
 "nbformat_minor": 2
}
