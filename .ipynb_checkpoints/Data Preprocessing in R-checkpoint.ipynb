{
 "cells": [
  {
   "cell_type": "code",
   "execution_count": null,
   "metadata": {},
   "outputs": [],
   "source": []
  },
  {
   "cell_type": "code",
   "execution_count": null,
   "metadata": {
    "ExecuteTime": {
     "end_time": "2018-12-08T14:59:42.560608Z",
     "start_time": "2018-12-08T14:58:05.876Z"
    }
   },
   "outputs": [],
   "source": [
    "requiredPackages = c('caret', 'e1071','broom',\n",
    "                     'tidyverse', 'lubridate','mice', 'magrittr',\n",
    "                     'prophet', 'zoo', 'forecast', 'xts')\n",
    "for(p in requiredPackages)\n",
    "{\n",
    "  if(!require(p,character.only = TRUE)) \n",
    "  {\n",
    "    install.packages(p,dependencies=TRUE, repos='http://cran.rstudio.com/')\n",
    "    print(paste(p,\"installed successfully\"))\n",
    "    library(p,character.only = TRUE)\n",
    "  }\n",
    "  else{print(paste(p , \"library already installed\"))}\n",
    "}\n",
    "print(\"List of the attached packages in your session: \" )\n",
    "search()"
   ]
  },
  {
   "cell_type": "markdown",
   "metadata": {
    "ExecuteTime": {
     "end_time": "2018-12-08T14:59:42.543607Z",
     "start_time": "2018-12-08T14:47:46.350Z"
    }
   },
   "source": [
    "**Import the datasets**"
   ]
  },
  {
   "cell_type": "code",
   "execution_count": 3,
   "metadata": {
    "ExecuteTime": {
     "end_time": "2018-12-08T15:04:07.020735Z",
     "start_time": "2018-12-08T15:04:02.008Z"
    }
   },
   "outputs": [
    {
     "name": "stderr",
     "output_type": "stream",
     "text": [
      "Warning message:\n",
      "\"Missing column names filled in: 'X1' [1]\"Parsed with column specification:\n",
      "cols(\n",
      "  X1 = col_integer(),\n",
      "  series_id = col_integer(),\n",
      "  timestamp = col_datetime(format = \"\"),\n",
      "  consumption = col_double(),\n",
      "  temperature = col_double()\n",
      ")\n",
      "Parsed with column specification:\n",
      "cols(\n",
      "  series_id = col_integer(),\n",
      "  surface = col_character(),\n",
      "  base_temperature = col_character(),\n",
      "  monday_is_day_off = col_character(),\n",
      "  tuesday_is_day_off = col_character(),\n",
      "  wednesday_is_day_off = col_character(),\n",
      "  thursday_is_day_off = col_character(),\n",
      "  friday_is_day_off = col_character(),\n",
      "  saturday_is_day_off = col_character(),\n",
      "  sunday_is_day_off = col_character()\n",
      ")\n",
      "Warning message:\n",
      "\"Missing column names filled in: 'X1' [1]\"Parsed with column specification:\n",
      "cols(\n",
      "  X1 = col_integer(),\n",
      "  series_id = col_integer(),\n",
      "  timestamp = col_datetime(format = \"\"),\n",
      "  consumption = col_double(),\n",
      "  temperature = col_double()\n",
      ")\n",
      "Parsed with column specification:\n",
      "cols(\n",
      "  pred_id = col_integer(),\n",
      "  series_id = col_integer(),\n",
      "  timestamp = col_datetime(format = \"\"),\n",
      "  temperature = col_double(),\n",
      "  consumption = col_double(),\n",
      "  prediction_window = col_character()\n",
      ")\n"
     ]
    }
   ],
   "source": [
    "train <- read_csv('datasets/consumption_train.csv')\n",
    "meta <- read_csv('datasets/meta.csv')\n",
    "test <- read_csv('datasets/cold_start_test.csv')\n",
    "submission_format <- read_csv('datasets/submission_format.csv')"
   ]
  },
  {
   "cell_type": "code",
   "execution_count": 4,
   "metadata": {
    "ExecuteTime": {
     "end_time": "2018-12-08T15:06:51.767157Z",
     "start_time": "2018-12-08T15:04:22.798Z"
    }
   },
   "outputs": [
    {
     "name": "stdout",
     "output_type": "stream",
     "text": [
      "Classes 'tbl_df', 'tbl' and 'data.frame':\t1383 obs. of  10 variables:\n",
      " $ series_id           : int  100003 100004 100006 100008 100010 100012 100017 100020 100021 100025 ...\n",
      " $ surface             : chr  \"x-large\" \"x-large\" \"x-small\" \"x-small\" ...\n",
      " $ base_temperature    : chr  \"low\" \"low\" \"low\" \"low\" ...\n",
      " $ monday_is_day_off   : chr  \"False\" \"False\" \"False\" \"False\" ...\n",
      " $ tuesday_is_day_off  : chr  \"False\" \"False\" \"False\" \"False\" ...\n",
      " $ wednesday_is_day_off: chr  \"False\" \"False\" \"False\" \"False\" ...\n",
      " $ thursday_is_day_off : chr  \"False\" \"False\" \"False\" \"False\" ...\n",
      " $ friday_is_day_off   : chr  \"False\" \"False\" \"False\" \"False\" ...\n",
      " $ saturday_is_day_off : chr  \"True\" \"True\" \"True\" \"True\" ...\n",
      " $ sunday_is_day_off   : chr  \"True\" \"True\" \"True\" \"True\" ...\n",
      " - attr(*, \"spec\")=List of 2\n",
      "  ..$ cols   :List of 10\n",
      "  .. ..$ series_id           : list()\n",
      "  .. .. ..- attr(*, \"class\")= chr  \"collector_integer\" \"collector\"\n",
      "  .. ..$ surface             : list()\n",
      "  .. .. ..- attr(*, \"class\")= chr  \"collector_character\" \"collector\"\n",
      "  .. ..$ base_temperature    : list()\n",
      "  .. .. ..- attr(*, \"class\")= chr  \"collector_character\" \"collector\"\n",
      "  .. ..$ monday_is_day_off   : list()\n",
      "  .. .. ..- attr(*, \"class\")= chr  \"collector_character\" \"collector\"\n",
      "  .. ..$ tuesday_is_day_off  : list()\n",
      "  .. .. ..- attr(*, \"class\")= chr  \"collector_character\" \"collector\"\n",
      "  .. ..$ wednesday_is_day_off: list()\n",
      "  .. .. ..- attr(*, \"class\")= chr  \"collector_character\" \"collector\"\n",
      "  .. ..$ thursday_is_day_off : list()\n",
      "  .. .. ..- attr(*, \"class\")= chr  \"collector_character\" \"collector\"\n",
      "  .. ..$ friday_is_day_off   : list()\n",
      "  .. .. ..- attr(*, \"class\")= chr  \"collector_character\" \"collector\"\n",
      "  .. ..$ saturday_is_day_off : list()\n",
      "  .. .. ..- attr(*, \"class\")= chr  \"collector_character\" \"collector\"\n",
      "  .. ..$ sunday_is_day_off   : list()\n",
      "  .. .. ..- attr(*, \"class\")= chr  \"collector_character\" \"collector\"\n",
      "  ..$ default: list()\n",
      "  .. ..- attr(*, \"class\")= chr  \"collector_guess\" \"collector\"\n",
      "  ..- attr(*, \"class\")= chr \"col_spec\"\n"
     ]
    }
   ],
   "source": [
    "# 1 take a look at the structure of the data\n",
    "str(meta)   # 1383 obs. of  10 variables"
   ]
  },
  {
   "cell_type": "code",
   "execution_count": 5,
   "metadata": {
    "ExecuteTime": {
     "end_time": "2018-12-08T15:09:35.784539Z",
     "start_time": "2018-12-08T15:07:15.034Z"
    }
   },
   "outputs": [
    {
     "name": "stdout",
     "output_type": "stream",
     "text": [
      "Classes 'tbl_df', 'tbl' and 'data.frame':\t509376 obs. of  5 variables:\n",
      " $ X1         : int  0 1 2 3 4 5 6 7 8 9 ...\n",
      " $ series_id  : int  103088 103088 103088 103088 103088 103088 103088 103088 103088 103088 ...\n",
      " $ timestamp  : POSIXct, format: \"2014-12-24 00:00:00\" \"2014-12-24 01:00:00\" ...\n",
      " $ consumption: num  101842 105878 91619 94474 96977 ...\n",
      " $ temperature: num  NA NA NA NA NA NA NA NA NA NA ...\n",
      " - attr(*, \"spec\")=List of 2\n",
      "  ..$ cols   :List of 5\n",
      "  .. ..$ X1         : list()\n",
      "  .. .. ..- attr(*, \"class\")= chr  \"collector_integer\" \"collector\"\n",
      "  .. ..$ series_id  : list()\n",
      "  .. .. ..- attr(*, \"class\")= chr  \"collector_integer\" \"collector\"\n",
      "  .. ..$ timestamp  :List of 1\n",
      "  .. .. ..$ format: chr \"\"\n",
      "  .. .. ..- attr(*, \"class\")= chr  \"collector_datetime\" \"collector\"\n",
      "  .. ..$ consumption: list()\n",
      "  .. .. ..- attr(*, \"class\")= chr  \"collector_double\" \"collector\"\n",
      "  .. ..$ temperature: list()\n",
      "  .. .. ..- attr(*, \"class\")= chr  \"collector_double\" \"collector\"\n",
      "  ..$ default: list()\n",
      "  .. ..- attr(*, \"class\")= chr  \"collector_guess\" \"collector\"\n",
      "  ..- attr(*, \"class\")= chr \"col_spec\"\n"
     ]
    }
   ],
   "source": [
    "str(train)  # 509376 obs. of  5 variables"
   ]
  },
  {
   "cell_type": "code",
   "execution_count": 6,
   "metadata": {
    "ExecuteTime": {
     "end_time": "2018-12-09T04:29:17.663186Z",
     "start_time": "2018-12-09T04:29:17.326Z"
    }
   },
   "outputs": [
    {
     "name": "stdout",
     "output_type": "stream",
     "text": [
      "Classes 'tbl_df', 'tbl' and 'data.frame':\t111984 obs. of  5 variables:\n",
      " $ X1         : int  0 1 2 3 4 5 6 7 8 9 ...\n",
      " $ series_id  : int  102781 102781 102781 102781 102781 102781 102781 102781 102781 102781 ...\n",
      " $ timestamp  : POSIXct, format: \"2013-02-27 00:00:00\" \"2013-02-27 01:00:00\" ...\n",
      " $ consumption: num  15296 15163 15022 15370 15303 ...\n",
      " $ temperature: num  17 18.2 18 17 16.9 ...\n",
      " - attr(*, \"spec\")=List of 2\n",
      "  ..$ cols   :List of 5\n",
      "  .. ..$ X1         : list()\n",
      "  .. .. ..- attr(*, \"class\")= chr  \"collector_integer\" \"collector\"\n",
      "  .. ..$ series_id  : list()\n",
      "  .. .. ..- attr(*, \"class\")= chr  \"collector_integer\" \"collector\"\n",
      "  .. ..$ timestamp  :List of 1\n",
      "  .. .. ..$ format: chr \"\"\n",
      "  .. .. ..- attr(*, \"class\")= chr  \"collector_datetime\" \"collector\"\n",
      "  .. ..$ consumption: list()\n",
      "  .. .. ..- attr(*, \"class\")= chr  \"collector_double\" \"collector\"\n",
      "  .. ..$ temperature: list()\n",
      "  .. .. ..- attr(*, \"class\")= chr  \"collector_double\" \"collector\"\n",
      "  ..$ default: list()\n",
      "  .. ..- attr(*, \"class\")= chr  \"collector_guess\" \"collector\"\n",
      "  ..- attr(*, \"class\")= chr \"col_spec\"\n"
     ]
    }
   ],
   "source": [
    "str(test)   # 111984 obs. of  5 variables"
   ]
  },
  {
   "cell_type": "markdown",
   "metadata": {},
   "source": [
    "**Summary of the data**"
   ]
  },
  {
   "cell_type": "code",
   "execution_count": 7,
   "metadata": {
    "ExecuteTime": {
     "end_time": "2018-12-09T04:31:35.593075Z",
     "start_time": "2018-12-09T04:29:21.956Z"
    }
   },
   "outputs": [
    {
     "data": {
      "text/plain": [
       "   series_id        surface          base_temperature   monday_is_day_off \n",
       " Min.   :100003   Length:1383        Length:1383        Length:1383       \n",
       " 1st Qu.:100947   Class :character   Class :character   Class :character  \n",
       " Median :101881   Mode  :character   Mode  :character   Mode  :character  \n",
       " Mean   :101855                                                           \n",
       " 3rd Qu.:102756                                                           \n",
       " Max.   :103634                                                           \n",
       " tuesday_is_day_off wednesday_is_day_off thursday_is_day_off friday_is_day_off \n",
       " Length:1383        Length:1383          Length:1383         Length:1383       \n",
       " Class :character   Class :character     Class :character    Class :character  \n",
       " Mode  :character   Mode  :character     Mode  :character    Mode  :character  \n",
       "                                                                               \n",
       "                                                                               \n",
       "                                                                               \n",
       " saturday_is_day_off sunday_is_day_off \n",
       " Length:1383         Length:1383       \n",
       " Class :character    Class :character  \n",
       " Mode  :character    Mode  :character  \n",
       "                                       \n",
       "                                       \n",
       "                                       "
      ]
     },
     "metadata": {},
     "output_type": "display_data"
    }
   ],
   "source": [
    "summary(meta)"
   ]
  },
  {
   "cell_type": "code",
   "execution_count": 8,
   "metadata": {
    "ExecuteTime": {
     "end_time": "2018-12-09T04:33:54.901043Z",
     "start_time": "2018-12-09T04:29:24.257Z"
    }
   },
   "outputs": [
    {
     "data": {
      "text/plain": [
       "       X1           series_id        timestamp                  \n",
       " Min.   :     0   Min.   :100003   Min.   :2013-01-02 00:00:00  \n",
       " 1st Qu.:127344   1st Qu.:100998   1st Qu.:2016-02-01 15:00:00  \n",
       " Median :254688   Median :101885   Median :2017-01-05 23:30:00  \n",
       " Mean   :254688   Mean   :101851   Mean   :2016-09-10 15:19:52  \n",
       " 3rd Qu.:382031   3rd Qu.:102697   3rd Qu.:2017-07-02 22:00:00  \n",
       " Max.   :509375   Max.   :103634   Max.   :2017-12-29 23:00:00  \n",
       "                                                                \n",
       "  consumption       temperature    \n",
       " Min.   :      0   Min.   :-13.47  \n",
       " 1st Qu.:  15421   1st Qu.:  8.45  \n",
       " Median :  49862   Median : 15.16  \n",
       " Mean   : 107624   Mean   : 15.19  \n",
       " 3rd Qu.: 135166   3rd Qu.: 21.80  \n",
       " Max.   :2085110   Max.   : 44.35  \n",
       "                   NA's   :228689  "
      ]
     },
     "metadata": {},
     "output_type": "display_data"
    }
   ],
   "source": [
    "summary(train)"
   ]
  },
  {
   "cell_type": "code",
   "execution_count": null,
   "metadata": {},
   "outputs": [],
   "source": [
    "summary(test)"
   ]
  },
  {
   "cell_type": "code",
   "execution_count": null,
   "metadata": {},
   "outputs": [],
   "source": [
    "# 3 take a look at the top rows of the data\n",
    "View(head(meta))"
   ]
  },
  {
   "cell_type": "code",
   "execution_count": null,
   "metadata": {},
   "outputs": [],
   "source": [
    "View(head(train))"
   ]
  },
  {
   "cell_type": "code",
   "execution_count": null,
   "metadata": {},
   "outputs": [],
   "source": [
    "View(head(test))"
   ]
  },
  {
   "cell_type": "code",
   "execution_count": null,
   "metadata": {},
   "outputs": [],
   "source": [
    "# 4 Cheking frequency in meta data\n",
    "sapply(meta[-1],  table)"
   ]
  },
  {
   "cell_type": "code",
   "execution_count": null,
   "metadata": {},
   "outputs": [],
   "source": [
    "# Power consumption till the last date of the training data\n",
    "# time_series <- ts(data_vector, start = 2004, frequency = 4)\n",
    "# ts.plot(eu_stocks, col = 1:4, xlab = \"Year\", ylab = \"Index Value\", main = \"Major European Stock Indices, 1991-1998\")\n",
    "\n",
    "table(meta$is_baseTemperatureHigh)\n",
    "# high  low \n",
    "# 35 1348"
   ]
  },
  {
   "cell_type": "code",
   "execution_count": null,
   "metadata": {},
   "outputs": [],
   "source": [
    "sapply(meta[-1], table)"
   ]
  },
  {
   "cell_type": "code",
   "execution_count": null,
   "metadata": {},
   "outputs": [],
   "source": [
    "# Checking differnce between series_id that are present in meta but not in train or test\n",
    "metaButNotTrain_sid <- as.vector(setdiff(meta$series_id, train$series_id))     \n",
    "length(metaButNotTrain_sid)  # 625 values"
   ]
  },
  {
   "cell_type": "code",
   "execution_count": null,
   "metadata": {},
   "outputs": [],
   "source": [
    "metaButNotTest_sid <- as.vector(setdiff(meta$series_id, test$series_id))\n",
    "length(metaButNotTest_sid)   # 758 values"
   ]
  },
  {
   "cell_type": "code",
   "execution_count": null,
   "metadata": {},
   "outputs": [],
   "source": [
    "# Missing value \n",
    "sort(colMeans(is.na(train)*100), decreasing = TRUE)  # 45% missing values of temperature\n",
    "sort(colMeans(is.na(test)*100), decreasing = TRUE)   # 40% missing values of temperature"
   ]
  },
  {
   "cell_type": "code",
   "execution_count": null,
   "metadata": {},
   "outputs": [],
   "source": [
    "# Looking at range of temperature and consumption in train data, eliminating NA/ Inf\n",
    "range(train$temperature,  finite = 1)\n",
    "min(train$temperature, na.rm = TRUE)\n",
    "max(train$temperature, na.rm = TRUE)\n",
    "\n",
    "range(train$consumption, finite = 1)\n",
    "min(train$consumption, na.rm = TRUE)\n",
    "max(train$consumption, na.rm = TRUE)"
   ]
  },
  {
   "cell_type": "code",
   "execution_count": null,
   "metadata": {},
   "outputs": [],
   "source": [
    "train_trial_xts <- xts(x = train, order.by = train$timestamp, frequency = 24)\n",
    "head(train_trial_xts)"
   ]
  },
  {
   "cell_type": "code",
   "execution_count": null,
   "metadata": {},
   "outputs": [],
   "source": [
    "ggplot(train_trial_xts, aes(x =timestamp, y = consumption)) +\n",
    "  geom_line()"
   ]
  },
  {
   "cell_type": "code",
   "execution_count": null,
   "metadata": {},
   "outputs": [],
   "source": [
    "##### tidying meta data #####\n",
    "# 1. Converting dummy variable for surface\n",
    "meta %<>% \n",
    "  mutate(v = 1, sf = surface) %>% \n",
    "  spread(sf, v, fill = 0)"
   ]
  },
  {
   "cell_type": "code",
   "execution_count": null,
   "metadata": {},
   "outputs": [],
   "source": [
    "# 2. Renaming dummy columns from surface\n",
    "meta %<>% rename(is_large = large)        # large\n",
    "meta %<>% rename(is_medium = medium)      # medium\n",
    "meta %<>% rename(is_Xlarge = 'x-large')   # xlarge\n",
    "meta %<>% rename(is_Xsmall = 'x-small')   # x small\n",
    "meta %<>% rename(is_XXlarge = 'xx-large') # xx-large\n",
    "meta %<>% rename(is_XXsmall = 'xx-small') # xx-small\n",
    "meta %<>% rename(is_small = small)        # small\n",
    "meta %<>% rename(is_baseTemperatureHigh = base_temperature) # base Temperature"
   ]
  },
  {
   "cell_type": "code",
   "execution_count": null,
   "metadata": {},
   "outputs": [],
   "source": [
    "# 3. change high = 1 and low = 0 in base_temperature\n",
    "meta$is_baseTemperatureHigh <- if_else(meta$is_baseTemperatureHigh == 'high', 1, 0) "
   ]
  },
  {
   "cell_type": "code",
   "execution_count": null,
   "metadata": {},
   "outputs": [],
   "source": [
    "# 4. Converting False to 0 and True to 1 in days columns\n",
    "meta %<>% mutate_at(vars(ends_with('_is_day_off')),\n",
    "                                 funs(case_when(\n",
    "                                  . =='False' ~ 0,\n",
    "                                  . == 'True'~ 1)))"
   ]
  },
  {
   "cell_type": "code",
   "execution_count": null,
   "metadata": {},
   "outputs": [],
   "source": [
    "# 5. Converting the newly created dummy var datatype from numeric to factor \n",
    "# except the series_id column:\n",
    "meta %<>% mutate_at(vars(-series_id), funs(as.factor(.)))\n",
    "\n",
    "# Caution: will convert all the column to factor\n",
    "#### meta %<>% mutate_if(is.numeric, as.factor) "
   ]
  },
  {
   "cell_type": "code",
   "execution_count": null,
   "metadata": {},
   "outputs": [],
   "source": [
    "# 6. Dropping column surface\n",
    "meta$surface <- NULL "
   ]
  },
  {
   "cell_type": "code",
   "execution_count": null,
   "metadata": {},
   "outputs": [],
   "source": [
    "# Save an object to a file\n",
    "saveRDS(meta, file = \"./processed/meta.rds\")\n",
    "# Restore the object\n",
    "openRDS(file = \"./processed/meta.rds\")\n",
    "##############################################################"
   ]
  },
  {
   "cell_type": "code",
   "execution_count": null,
   "metadata": {},
   "outputs": [],
   "source": [
    "##### tidying train data #####\n",
    "# Column(s) to add\n",
    "# Extracting hour from timestamp and storing it as factor\n",
    "train$hour <- as.factor(hour(train$timestamp))\n",
    "test$hour <- as.factor(hour(test$timestamp))"
   ]
  },
  {
   "cell_type": "code",
   "execution_count": null,
   "metadata": {},
   "outputs": [],
   "source": [
    "View(head(test))"
   ]
  },
  {
   "cell_type": "code",
   "execution_count": null,
   "metadata": {},
   "outputs": [],
   "source": [
    "View(head(train))"
   ]
  },
  {
   "cell_type": "code",
   "execution_count": null,
   "metadata": {},
   "outputs": [],
   "source": [
    "# Imputing implicit missing values in consumption by taking median of consu in\n",
    "# xsmall and xxsmall\n",
    "# Check summary\n",
    "summary(train$consumption)"
   ]
  },
  {
   "cell_type": "code",
   "execution_count": null,
   "metadata": {},
   "outputs": [],
   "source": [
    "summary(test$consumption)"
   ]
  },
  {
   "cell_type": "code",
   "execution_count": null,
   "metadata": {},
   "outputs": [],
   "source": [
    "# Count of values that have consumption 0:\n",
    "train %>% count(consumption == 0)\n",
    "test %>% count(consumption == 0)"
   ]
  },
  {
   "cell_type": "code",
   "execution_count": null,
   "metadata": {},
   "outputs": [],
   "source": [
    "#Converting 0 value of consumption to NA:\n",
    "train %<>% mutate(consumption = na_if(consumption,0))\n",
    "test %<>% mutate(consumption = na_if(consumption,0)) "
   ]
  },
  {
   "cell_type": "code",
   "execution_count": null,
   "metadata": {},
   "outputs": [],
   "source": [
    "#Number of missing values before implicit conversion:\n",
    "sum(is.na(train$consumption))\n",
    "sum(is.na(test$consumption))"
   ]
  },
  {
   "cell_type": "code",
   "execution_count": null,
   "metadata": {},
   "outputs": [],
   "source": [
    "# Replacing NA with median values \n",
    "train %<>% mutate_at(vars(consumption), funs(ifelse(is.na(.),median(., na.rm = TRUE),.)))\n",
    "test %<>% mutate_at(vars(consumption), funs(ifelse(is.na(.), median(., na.rm = TRUE), .)))"
   ]
  },
  {
   "cell_type": "code",
   "execution_count": null,
   "metadata": {},
   "outputs": [],
   "source": [
    "# Check summary\n",
    "summary(train$consumption)\n",
    "summary(test$consumption)"
   ]
  },
  {
   "cell_type": "code",
   "execution_count": null,
   "metadata": {},
   "outputs": [],
   "source": [
    "# Transformation of the consumption data. THIS STEP WAS NOT DONE\n",
    "train %<>% mutate(consumption = log(consumption))"
   ]
  },
  {
   "cell_type": "code",
   "execution_count": null,
   "metadata": {},
   "outputs": [],
   "source": [
    "# Take a look at the transformed values of consumption\n",
    "summary(train$consumption)\n",
    "\n",
    "  "
   ]
  },
  {
   "cell_type": "code",
   "execution_count": null,
   "metadata": {},
   "outputs": [],
   "source": [
    "# Column(s) to drop\n",
    "train$X1 <- NULL\n",
    "test$X1 <- NULL\n",
    "\n",
    "train$temperature <- NULL\n",
    "test$temperature <- NULL"
   ]
  },
  {
   "cell_type": "code",
   "execution_count": null,
   "metadata": {},
   "outputs": [],
   "source": [
    "# Names of columns of train data\n",
    "colnames(train)"
   ]
  },
  {
   "cell_type": "code",
   "execution_count": null,
   "metadata": {},
   "outputs": [],
   "source": [
    "colnames(test)"
   ]
  },
  {
   "cell_type": "code",
   "execution_count": null,
   "metadata": {},
   "outputs": [],
   "source": [
    "######### Save the data so far #############################\n",
    "# Save an object to a file\n",
    "saveRDS(train, file = \"./processed/train.rds\")\n",
    "# Restore the object\n",
    "train <- openRDS(file = \"./processed/train.rds\")"
   ]
  },
  {
   "cell_type": "code",
   "execution_count": null,
   "metadata": {},
   "outputs": [],
   "source": [
    "# Save an object to a file\n",
    "saveRDS(test, file = \"./processed/test.rds\")\n",
    "# Restore the object\n",
    "test <- openRDS(file = \"./processed/test.rds\")"
   ]
  },
  {
   "cell_type": "code",
   "execution_count": null,
   "metadata": {},
   "outputs": [],
   "source": [
    "##### Joining data #####\n",
    "\n",
    "# left join between train and meta\n",
    "train_meta_lj <- left_join(x= train, y = meta, suffix = c(\".x\", \".m1\"))\n",
    "View(head(train_meta_lj))"
   ]
  },
  {
   "cell_type": "code",
   "execution_count": null,
   "metadata": {},
   "outputs": [],
   "source": [
    "# left join between test and meta\n",
    "test_meta_lj <- left_join(x= test, y= meta, suffix = c(\".y\", \".m2\"))\n",
    "View(head(test_meta_lj))"
   ]
  },
  {
   "cell_type": "code",
   "execution_count": null,
   "metadata": {},
   "outputs": [],
   "source": [
    "########### Save the joined objects #########################\n",
    "# Save an object to a file\n",
    "saveRDS(train_meta_lj, file = \"./processed/train_meta_lj.rds\")\n",
    "# Restore the object\n",
    "train_meta_lj <- openRDS(file = \"./processed/train_meta_lj.rds\")"
   ]
  },
  {
   "cell_type": "code",
   "execution_count": null,
   "metadata": {},
   "outputs": [],
   "source": [
    "# Save an object to a file\n",
    "saveRDS(test_meta_lj, file = \"./processed/test_meta_lj.rds\")\n",
    "# Restore the object\n",
    "test_meta_lj <- openRDS(file = \"./processed/test_meta_lj.rds\")\n",
    "################################################################"
   ]
  },
  {
   "cell_type": "code",
   "execution_count": null,
   "metadata": {},
   "outputs": [],
   "source": [
    "# View sample data from the objects before writing them to file\n",
    "View(head(train_meta_lj))"
   ]
  },
  {
   "cell_type": "code",
   "execution_count": null,
   "metadata": {},
   "outputs": [],
   "source": [
    "View(head(test_meta_lj))"
   ]
  },
  {
   "cell_type": "code",
   "execution_count": null,
   "metadata": {},
   "outputs": [],
   "source": [
    "# Write the objects to a file\n",
    "\n",
    "write.csv(train_meta_lj,'./processed/consumption_train.csv')\n",
    "write.csv(test_meta_lj,'./processed/cold_start_test.csv')"
   ]
  }
 ],
 "metadata": {
  "kernelspec": {
   "display_name": "R",
   "language": "R",
   "name": "ir"
  },
  "language_info": {
   "codemirror_mode": "r",
   "file_extension": ".r",
   "mimetype": "text/x-r-source",
   "name": "R",
   "pygments_lexer": "r",
   "version": "3.4.3"
  },
  "toc": {
   "base_numbering": 1,
   "nav_menu": {},
   "number_sections": true,
   "sideBar": true,
   "skip_h1_title": false,
   "title_cell": "Table of Contents",
   "title_sidebar": "Contents",
   "toc_cell": false,
   "toc_position": {},
   "toc_section_display": true,
   "toc_window_display": false
  },
  "varInspector": {
   "cols": {
    "lenName": 16,
    "lenType": 16,
    "lenVar": 40
   },
   "kernels_config": {
    "python": {
     "delete_cmd_postfix": "",
     "delete_cmd_prefix": "del ",
     "library": "var_list.py",
     "varRefreshCmd": "print(var_dic_list())"
    },
    "r": {
     "delete_cmd_postfix": ") ",
     "delete_cmd_prefix": "rm(",
     "library": "var_list.r",
     "varRefreshCmd": "cat(var_dic_list()) "
    }
   },
   "types_to_exclude": [
    "module",
    "function",
    "builtin_function_or_method",
    "instance",
    "_Feature"
   ],
   "window_display": false
  }
 },
 "nbformat": 4,
 "nbformat_minor": 2
}
